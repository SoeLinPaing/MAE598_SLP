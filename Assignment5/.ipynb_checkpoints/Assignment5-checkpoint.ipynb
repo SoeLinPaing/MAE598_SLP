{
 "cells": [
  {
   "cell_type": "markdown",
   "id": "bcbdb225-c771-4a9f-911a-90ae3620b99a",
   "metadata": {},
   "source": [
    "## Problem 1"
   ]
  },
  {
   "cell_type": "markdown",
   "id": "0cebfa3f-aca6-4e02-9282-56407824c5aa",
   "metadata": {},
   "source": [
    " Implement SQP to solve the following problem. Use x0 = (1, 1)T as\n",
    "the initial guess. Use BFGS approximation for the Hessian of the La-\n",
    "grangian. Use the merit ftion and Armijo Line Search to find the\n",
    "step size. Note: You can use an existing quadratic programming solver\n",
    "to solve the QP subproblem."
   ]
  },
  {
   "cell_type": "markdown",
   "id": "60403f31-ff11-4143-8297-637aa2422c79",
   "metadata": {},
   "source": [
    "$$ \\text{min} \\quad f = x_1^2 + (x_2 −3)^2 \\\\\n",
    "s.t. \\quad g_1 = x_2^2 −2x_1 ≤0 \\\\\n",
    "g_2 = (x_2 −1)^2 + 5x_1 −15 ≤0$$"
   ]
  },
  {
   "cell_type": "code",
   "execution_count": null,
   "id": "4e8f4422-9d8e-4f3d-9c67-9ee727bd10e0",
   "metadata": {},
   "outputs": [],
   "source": [
    "import numpy as np"
   ]
  },
  {
   "cell_type": "code",
   "execution_count": 66,
   "id": "1f1877ec-b39d-440d-9fc5-82c4eef0ec7d",
   "metadata": {},
   "outputs": [],
   "source": [
    "def f(X):\n",
    "    return X[0]**2 + (X[1] - 3)**2\n",
    "    \n",
    "\n",
    "def df(X):\n",
    "    df = np.vstack((2 * X[0], 2 * (X[1] - 3)))\n",
    "    return df\n",
    "\n",
    "def g(X):\n",
    "    g = np.vstack((X[1]**2 - 2 * X[0], (X[0] -1)**2 + 5 * X[0] - 15))\n",
    "    return g\n",
    "\n",
    "def dg(X):\n",
    "    x1 = X[0].reshape(-1, 1)\n",
    "    x2 = X[1].reshape(-1, 1)\n",
    "    dg_x = np.vstack((np.hstack((np.array([[-2]]), 2 * x2)), np.hstack((np.array([[5]]), 2 * (x2 -1)))))\n",
    "    return dg_x\n",
    "\n",
    "def dL(X, mu):\n",
    "    x1 = X[0].reshape(-1, 1)\n",
    "    x2 = X[1].reshape(-1, 1)\n",
    "    dLmu = np.hstack((x2**2 - 2 * x1, (x2 - 1)**2 + 5 * x1 - 15))\n",
    "    dLx = np.hstack(((2 * x1), (2 * (x2 -3)))) + np.matmul(np.transpose(mu), np.vstack((np.hstack((np.array([[-2]]), 2*x1)),np.hstack((np.array([[5]]), 2*(x2 -1))))))\n",
    "    \n",
    "    return dLx, dLmu"
   ]
  },
  {
   "cell_type": "code",
   "execution_count": 67,
   "id": "c99fb4aa-f600-48c9-ba1e-0a2b26ddace2",
   "metadata": {},
   "outputs": [],
   "source": [
    "def QPsolver(x, W, df, g, dg):\n",
    "    c = df(x)\n",
    "    A0 = dg(x)\n",
    "    b0 = g(x)\n",
    "    mu = []\n",
    "    active = []\n",
    "    while True:\n",
    "        mu0 = np.zeros((b0.shape[0], 1))\n",
    "\n",
    "        if len(active) == 0:\n",
    "            M = W\n",
    "            smu = np.matmul(np.linalg.inv(M), -c)\n",
    "            s = smu[:len(x), :]\n",
    "            mu = []\n",
    "\n",
    "        if len(active) != 0:\n",
    "            A = A0[active, :]\n",
    "            b = b0[active]\n",
    "            s, mu = activeset_solver(x, W, c, A, b)\n",
    "            mu0[active] = mu[active]\n",
    "\n",
    "        contstraints_check = np.round(((np.matmul(A0, s) + b0) * 1e12)) / 1e12\n",
    "        mu_check = 0\n",
    "        if len(mu) == 0:\n",
    "            mu_check = 1\n",
    "        elif min(mu) > 0:\n",
    "            mu_check = 1\n",
    "        else:\n",
    "            id_mu = np.argmin(np.array(mu))\n",
    "            mu.remove(min(mu))\n",
    "            active.pop(id_mu)\n",
    "\n",
    "        if np.max(contstraints_check) <= 0:\n",
    "            if mu_check == 1:\n",
    "                return s, mu0\n",
    "        else:\n",
    "            index = np.argmax(contstraints_check)\n",
    "            active.append(index)\n",
    "            active = np.unique(np.array(active)).tolist()\n",
    "\n",
    "\n",
    "\n",
    "\n",
    "def activeset_solver(x, W, c, A, b):\n",
    "    M = np.vstack((np.hstack((W, np.transpose(A))), np.hstack((A, np.zeros((np.size(A, 0), np.size(A, 0)))))))\n",
    "    U = np.vstack((-c, -b))\n",
    "    sol = np.matmul(np.linalg.inv(M), U)\n",
    "    s = sol[: len(x)]\n",
    "    mu = sol[len(x):]\n",
    "    return s, mu"
   ]
  },
  {
   "cell_type": "code",
   "execution_count": 68,
   "id": "be971ae5-1bca-4011-8629-c1e3f8e25479",
   "metadata": {},
   "outputs": [],
   "source": [
    "iterator = 0\n",
    "def linesearch(f, df, g, dg, x, s, prv_mu, prv_w):\n",
    "    t = 0.1\n",
    "    b = 0.5\n",
    "    a = 1\n",
    "    D = s\n",
    "    \n",
    "    w = np.hstack((abs(prv_mu), 0.5 * (prv_w + abs(prv_mu)))).max(1).reshape(-1,1)\n",
    "    iterator = 0\n",
    "    while iterator < 100:\n",
    "        phi_a = f(x + a * D) + np.matmul(np.transpose(w),abs(np.hstack((np.zeros_like(g(x)), -g(x + a * D))).min(1)).reshape(-1, 1))\n",
    "        phi0 = f(x) + np.matmul(np.transpose(w),abs(np.hstack((np.zeros_like(g(x)), -g(x))).min(1)).reshape(-1, 1))\n",
    "        temp = np.hstack((np.zeros_like(g(x)), g(x))).max(1).reshape(-1, 1) > 0\n",
    "        dgg = np.zeros((len(temp), 1))\n",
    "        dgg0 = np.matmul(dg(x), D)\n",
    "        dgg[temp] = dgg0[temp]\n",
    "        dphi0 = np.matmul(np.transpose(df(x)), D) + np.matmul(np.transpose(w), dgg)\n",
    "        psi_a = phi0 + t * a * dphi0\n",
    "        if phi_a < psi_a:\n",
    "            return a, w\n",
    "        else:\n",
    "            a = a * b\n",
    "            iterator += 1\n",
    "\n",
    "def BFGS(W, dx, X, df):\n",
    "    y = df(X) - df(X - dx)\n",
    "    Q = np.matmul(np.matmul(dx.T, W), dx)\n",
    "    if np.matmul(dx.T, y) >= 0.2 * Q:\n",
    "        theta = 1\n",
    "    else:\n",
    "        theta = 0.8 * Q / (Q - np.matmul(dx.T, y))\n",
    "\n",
    "    y = theta * y + (1 - theta) * np.matmul(W, dx)\n",
    "    W = W + np.matmul(y, y.T) / np.matmul(y.T, dx) - np.matmul(np.matmul(W, dx), np.matmul(dx.T, W))\n",
    "    return W\n",
    "\n"
   ]
  },
  {
   "cell_type": "code",
   "execution_count": 69,
   "id": "70f66142-ce68-4838-920d-e3e893c74443",
   "metadata": {},
   "outputs": [
    {
     "name": "stdout",
     "output_type": "stream",
     "text": [
      "[[1.05956818]\n",
      " [1.45572537]]\n"
     ]
    }
   ],
   "source": [
    "X = np.array([[1],[1]])\n",
    "mu = np.zeros((2, 1))\n",
    "W = np.identity(2)\n",
    "w = np.zeros((2, 1))\n",
    "\n",
    "[dLx, dLmu] = dL(X, mu)\n",
    "\n",
    "while np.linalg.norm(dLx) > 10e-3 and iterator < 100:\n",
    "    [s, mu] = QPsolver(X, W, df, g, dg)\n",
    "    a, w = linesearch(f, df, g, dg, X, s, mu, w)\n",
    "    X = X + a*s\n",
    "    W = BFGS(W, a*s, X, df)\n",
    "    [dLx, dLmu] = dL(X, mu)\n",
    "    iterator += 1\n",
    "\n",
    "print(X)"
   ]
  },
  {
   "cell_type": "markdown",
   "id": "335eba53-c129-4f8f-b59e-d11c48f6b192",
   "metadata": {},
   "source": [
    "</br>"
   ]
  },
  {
   "cell_type": "markdown",
   "id": "74dfd9ef-398d-42c3-b316-87b601ce7335",
   "metadata": {},
   "source": [
    "## Problem 2"
   ]
  },
  {
   "cell_type": "markdown",
   "id": "282fe178-ff5a-4f46-b64a-cf5c461982cd",
   "metadata": {},
   "source": [
    "With states $[h,v,m]^T$\n",
    "Thrust is denoted as $l = \\alpha$\n",
    "\n",
    "Dynamics of a moonlander:\n",
    "\n",
    "$ f =  \\begin{bmatrix} \\dot{h} \\\\ \\dot{v} \\\\ \\dot{m} \\end{bmatrix} = \\begin{bmatrix} v(t) \\\\ -g + \\frac{\\alpha(t)}{m(t)} \\\\ - K \\alpha(t) \\end{bmatrix}$\n",
    "\n",
    "Hamiltonian can be written as:\n",
    "\n",
    "$H = -l + \\lambda^T f = -\\alpha + \\lambda_1 v + \\lambda_2 \\frac{\\alpha(t)}{m(t)} + \\lambda_3 -K\\alpha $\n",
    "\n",
    "\n",
    "To find the optimal control policy,\n",
    "\n",
    "$\\alpha^* = \\text{argmax}_{\\alpha \\in [0,1]}(H) = \\text{argmax}_{\\alpha \\in [0,1]}(-1+\\frac{\\lambda_2}{m}-\\lambda_3K)\\alpha+ \\lambda_1V - \\lambda_2g)$\n",
    "\n",
    "If we set $b =  -1+\\frac{\\lambda_2}{m}-\\lambda_3K$\n",
    "\n",
    "$\\alpha^* = 0 $ if $ b \\leq 0 $ \n",
    "\n",
    "$\\alpha^* = 1 $ if $ b > 0 $\n",
    "\n",
    "policy: \n",
    "\n",
    "$\\alpha^* = 0 $ if $ t \\in [0, t^*] $\n",
    "\n",
    "$\\alpha^* = 1 $ if $ t \\in [t^*, \\tau] $\n",
    "\n",
    "To show that $b$ is a monotonic function \n",
    "\n",
    "$\\dot{\\lambda} = -\\frac{\\partial{H}}{\\partial{f}} = -\\begin{bmatrix} \\frac{\\partial{H}}{\\partial{h}} \\\\ \\frac{\\partial{H}}{\\partial{v}} \\\\ \\frac{\\partial{H}}{\\partial{m}} \\end{bmatrix} = \\begin{bmatrix} 0 \\\\ -\\lambda_1 \\\\ \\frac{\\lambda_2 \\alpha}{m^2} \\end{bmatrix}$\n",
    "\n",
    "\n",
    "$\\frac{db}{dt} = \\frac{\\dot{\\lambda_2}m - \\dot{m}\\lambda_2}{m^2} - \\dot{\\lambda_3} K = \\frac{-\\lambda_1 m + \\lambda_2 K \\alpha}{m^2} - \\frac{\\lambda_2 K \\alpha}{m^2} = \\frac{-\\lambda_1}{m} $\n",
    "\n",
    "Since mass can't be less than zero $m > 0$ and $\\dot{\\lambda_1} = 0$ means $\\lambda_1$ is not changing.\n",
    "\n",
    "Thus $b$ is monotonic function. \n"
   ]
  }
 ],
 "metadata": {
  "kernelspec": {
   "display_name": "Python 3 (ipykernel)",
   "language": "python",
   "name": "python3"
  },
  "language_info": {
   "codemirror_mode": {
    "name": "ipython",
    "version": 3
   },
   "file_extension": ".py",
   "mimetype": "text/x-python",
   "name": "python",
   "nbconvert_exporter": "python",
   "pygments_lexer": "ipython3",
   "version": "3.10.4"
  }
 },
 "nbformat": 4,
 "nbformat_minor": 5
}
