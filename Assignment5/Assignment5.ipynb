{
 "cells": [
  {
   "cell_type": "markdown",
   "id": "bcbdb225-c771-4a9f-911a-90ae3620b99a",
   "metadata": {},
   "source": [
    "## Problem 1"
   ]
  },
  {
   "cell_type": "markdown",
   "id": "0cebfa3f-aca6-4e02-9282-56407824c5aa",
   "metadata": {},
   "source": [
    " Implement SQP to solve the following problem. Use x0 = (1, 1)T as\n",
    "the initial guess. Use BFGS approximation for the Hessian of the La-\n",
    "grangian. Use the merit ftion and Armijo Line Search to find the\n",
    "step size. Note: You can use an existing quadratic programming solver\n",
    "to solve the QP subproblem."
   ]
  },
  {
   "cell_type": "markdown",
   "id": "60403f31-ff11-4143-8297-637aa2422c79",
   "metadata": {},
   "source": [
    "$$ \\text{min} \\quad f = x_1^2 + (x_2 −3)^2 \\\\\n",
    "s.t. \\quad g_1 = x_2^2 −2x_1 ≤0 \\\\\n",
    "g_2 = (x_2 −1)^2 + 5x_1 −15 ≤0$$"
   ]
  },
  {
   "cell_type": "code",
   "execution_count": 55,
   "id": "4e8f4422-9d8e-4f3d-9c67-9ee727bd10e0",
   "metadata": {},
   "outputs": [],
   "source": [
    "import numpy as np\n",
    "from QPsolver import QPsolver"
   ]
  },
  {
   "cell_type": "code",
   "execution_count": 56,
   "id": "1f1877ec-b39d-440d-9fc5-82c4eef0ec7d",
   "metadata": {},
   "outputs": [],
   "source": [
    "def f(X):\n",
    "    f = X[0]**2 + (X[1] - 3)**2\n",
    "    return f\n",
    "\n",
    "def df(X):\n",
    "    df = np.vstack((2 * X[0], 2 * (X[1] - 3)))\n",
    "    return df\n",
    "\n",
    "def g(X):\n",
    "    g = np.vstack((X[1]**2 - 2 * X[0], (X[0] -1)**2 + 5 * X[0] - 15))\n",
    "    return g\n",
    "\n",
    "def dg(X):\n",
    "    x1 = X[0].reshape(-1, 1)\n",
    "    x2 = X[1].reshape(-1, 1)\n",
    "    dg_x = np.vstack((np.hstack((np.array([[-2]]), 2 * x2)), np.hstack((np.array([[5]]), 2 * (x2 -1)))))\n",
    "    return dg_x\n",
    "\n",
    "def dL(X, mu):\n",
    "    x1 = X[0].reshape(-1, 1)\n",
    "    x2 = X[1].reshape(-1, 1)\n",
    "    dLx = np.hstack(((2 * x1), (2 * (x2 -3)))) + np.matmul(np.transpose(mu), np.vstack((np.hstack((np.array([[-2]]), 2*x1)),np.hstack((np.array([[5]]), 2*(x2 -1))))))\n",
    "    dLmu = np.hstack((x2**2 - 2 * x1, (x2 - 1)**2 + 5 * x1 - 15))\n",
    "    return dLx, dLmu"
   ]
  },
  {
   "cell_type": "code",
   "execution_count": 57,
   "id": "be971ae5-1bca-4011-8629-c1e3f8e25479",
   "metadata": {},
   "outputs": [],
   "source": [
    "iterator = 0\n",
    "def linesearch(f, df, g, dg, x, s, mu_old, w_old):\n",
    "    t = 0.3\n",
    "    alpha = 1\n",
    "    D = s\n",
    "    w = np.hstack((abs(mu_old), 0.5 * (w_old + abs(mu_old)))).max(1).reshape(-1,1)\n",
    "    iterator = 0\n",
    "    while iterator < 100:\n",
    "        fa = f(x + alpha * D) + np.matmul(np.transpose(w),abs(np.hstack((np.zeros_like(g(x)), -g(x + alpha * D))).min(1)).reshape(-1, 1))\n",
    "        f0 = f(x) + np.matmul(np.transpose(w),abs(np.hstack((np.zeros_like(g(x)), -g(x))).min(1)).reshape(-1, 1))\n",
    "        temp = np.hstack((np.zeros_like(g(x)), g(x))).max(1).reshape(-1, 1) > 0\n",
    "        dmaxg = np.zeros((len(temp), 1))\n",
    "        dmaxg0 = np.matmul(dg(x), D)\n",
    "        dmaxg[temp] = dmaxg0[temp]\n",
    "        df0 = np.matmul(np.transpose(df(x)), D) + np.matmul(np.transpose(w), dmaxg)\n",
    "        phi_a = f0 + t * alpha * df0\n",
    "        if fa < phi_a:\n",
    "            return alpha, w\n",
    "        else:\n",
    "            alpha = alpha * 0.5\n",
    "            iterator += 1\n",
    "\n",
    "def BFGS(W, dx, X, df):\n",
    "    y = df(X) - df(X - dx)\n",
    "    Q = np.matmul(np.matmul(dx.T, W), dx)\n",
    "    if np.matmul(dx.T, y) >= 0.2 * Q:\n",
    "        theta = 1\n",
    "    else:\n",
    "        theta = 0.8 * Q / (Q - np.matmul(dx.T, y))\n",
    "\n",
    "    y = theta * y + (1 - theta) * np.matmul(W, dx)\n",
    "    W = W + np.matmul(y, y.T) / np.matmul(y.T, dx) - np.matmul(np.matmul(W, dx), np.matmul(dx.T, W))\n",
    "    return W\n",
    "\n"
   ]
  },
  {
   "cell_type": "code",
   "execution_count": 58,
   "id": "70f66142-ce68-4838-920d-e3e893c74443",
   "metadata": {},
   "outputs": [
    {
     "name": "stdout",
     "output_type": "stream",
     "text": [
      "[[1.05956788]\n",
      " [1.45572516]]\n"
     ]
    }
   ],
   "source": [
    "X = np.array([[1],[1]])\n",
    "mu = np.zeros((2, 1))\n",
    "W = np.identity(2)\n",
    "w = np.zeros((2, 1))\n",
    "\n",
    "[dLx, dLmu] = dL(X, mu)\n",
    "\n",
    "while np.linalg.norm(dLx) > 10e-3 and iterator < 50:\n",
    "    [s, mu] = QPsolver(X, W, df, g, dg)\n",
    "    alpha, w = linesearch(f, df, g, dg, X, s, mu, w)\n",
    "    X = X + alpha*s\n",
    "    W = BFGS(W, alpha*s, X, df)\n",
    "    [dLx, dLmu] = dL(X, mu)\n",
    "    iterator += 1\n",
    "\n",
    "print(X)"
   ]
  },
  {
   "cell_type": "markdown",
   "id": "335eba53-c129-4f8f-b59e-d11c48f6b192",
   "metadata": {},
   "source": [
    "</br>"
   ]
  },
  {
   "cell_type": "markdown",
   "id": "74dfd9ef-398d-42c3-b316-87b601ce7335",
   "metadata": {},
   "source": [
    "## Problem 2"
   ]
  },
  {
   "cell_type": "markdown",
   "id": "282fe178-ff5a-4f46-b64a-cf5c461982cd",
   "metadata": {},
   "source": [
    "With states $[h,v,m]^T$\n",
    "Thrust is denoted as $l = \\alpha$\n",
    "\n",
    "Dynamics of a moonlander:\n",
    "\n",
    "$ f =  \\begin{bmatrix} \\dot{h} \\\\ \\dot{v} \\\\ \\dot{m} \\end{bmatrix} = \\begin{bmatrix} v(t) \\\\ -g + \\frac{\\alpha(t)}{m(t)} \\\\ - K \\alpha(t) \\end{bmatrix}$\n",
    "\n",
    "Hamiltonian can be written as:\n",
    "\n",
    "$H = -l + \\lambda^T f = -\\alpha + \\lambda_1 v + \\lambda_2 \\frac{\\alpha(t)}{m(t)} + \\lambda_3 -K\\alpha $\n",
    "\n",
    "\n",
    "To find the optimal control policy,\n",
    "\n",
    "$\\alpha^* = \\text{argmax}_{\\alpha \\in [0,1]}(H) = \\text{argmax}_{\\alpha \\in [0,1]}(-1+\\frac{\\lambda_2}{m}-\\lambda_3K)\\alpha+ \\lambda_1V - \\lambda_2g)$\n",
    "\n",
    "If we set $b =  -1+\\frac{\\lambda_2}{m}-\\lambda_3K$\n",
    "\n",
    "$\\alpha^* = 0 $ if $ b \\leq 0 $ \n",
    "\n",
    "$\\alpha^* = 1 $ if $ b > 0 $\n",
    "\n",
    "policy: \n",
    "\n",
    "$\\alpha^* = 0 $ if $ t \\in [0, t^*] $\n",
    "\n",
    "$\\alpha^* = 1 $ if $ t \\in [t^*, \\tau] $\n",
    "\n",
    "To show that $b$ is a monotonic function \n",
    "\n",
    "$\\dot{\\lambda} = -\\frac{\\partial{H}}{\\partial{f}} = -\\begin{bmatrix} \\frac{\\partial{H}}{\\partial{h}} \\\\ \\frac{\\partial{H}}{\\partial{v}} \\\\ \\frac{\\partial{H}}{\\partial{m}} \\end{bmatrix} = \\begin{bmatrix} 0 \\\\ -\\lambda_1 \\\\ \\frac{\\lambda_2 \\alpha}{m^2} \\end{bmatrix}$\n",
    "\n",
    "\n",
    "$\\frac{db}{dt} = \\frac{\\dot{\\lambda_2}m - \\dot{m}\\lambda_2}{m^2} - \\dot{\\lambda_3} K = \\frac{-\\lambda_1 m + \\lambda_2 K \\alpha}{m^2} - \\frac{\\lambda_2 K \\alpha}{m^2} = \\frac{-\\lambda_1}{m} $\n",
    "\n",
    "Since mass can't be less than zero $m > 0$ and $\\dot{\\lambda_1} = 0$ means $\\lambda_1$ is not changing.\n",
    "\n",
    "Thus $b$ is monotonic function. \n"
   ]
  },
  {
   "cell_type": "code",
   "execution_count": null,
   "id": "9c68ffc7-c469-42b9-a0f7-1ff9bb00f923",
   "metadata": {},
   "outputs": [],
   "source": []
  }
 ],
 "metadata": {
  "kernelspec": {
   "display_name": "Python 3 (ipykernel)",
   "language": "python",
   "name": "python3"
  },
  "language_info": {
   "codemirror_mode": {
    "name": "ipython",
    "version": 3
   },
   "file_extension": ".py",
   "mimetype": "text/x-python",
   "name": "python",
   "nbconvert_exporter": "python",
   "pygments_lexer": "ipython3",
   "version": "3.10.4"
  }
 },
 "nbformat": 4,
 "nbformat_minor": 5
}
