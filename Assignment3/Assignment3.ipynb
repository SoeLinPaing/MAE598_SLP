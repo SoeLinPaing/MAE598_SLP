{
 "cells": [
  {
   "cell_type": "markdown",
   "id": "3dc1e40c-65cd-456b-b5ce-ac172fce2aa4",
   "metadata": {},
   "source": [
    "# Assignment 3"
   ]
  },
  {
   "cell_type": "markdown",
   "id": "1a624ef4-e3a0-4c5e-8924-965a4aa803fa",
   "metadata": {},
   "source": [
    "## Problem 1"
   ]
  },
  {
   "cell_type": "code",
   "execution_count": 4,
   "id": "6b41e905-d223-4d9b-a1ff-e0752753a224",
   "metadata": {},
   "outputs": [],
   "source": [
    "import matplotlib.pyplot as plt\n",
    "import numpy as np\n",
    "import torch\n",
    "from torch.autograd import Variable"
   ]
  },
  {
   "cell_type": "code",
   "execution_count": 12,
   "id": "d61637e2-ef2d-403a-adfe-13ce58aebddc",
   "metadata": {},
   "outputs": [],
   "source": [
    "X1 = np.array([[0.0, 0.1, 0.2, 0.3, 0.4, 0.5, 0.6, 0.7, 0.8, 0.9, 1.0]])\n",
    "X2 = 1-X1"
   ]
  },
  {
   "cell_type": "code",
   "execution_count": null,
   "id": "bbd23f1d-6888-4115-8125-2225452aefe8",
   "metadata": {},
   "outputs": [],
   "source": []
  }
 ],
 "metadata": {
  "kernelspec": {
   "display_name": "Python 3 (ipykernel)",
   "language": "python",
   "name": "python3"
  },
  "language_info": {
   "codemirror_mode": {
    "name": "ipython",
    "version": 3
   },
   "file_extension": ".py",
   "mimetype": "text/x-python",
   "name": "python",
   "nbconvert_exporter": "python",
   "pygments_lexer": "ipython3",
   "version": "3.10.4"
  }
 },
 "nbformat": 4,
 "nbformat_minor": 5
}
