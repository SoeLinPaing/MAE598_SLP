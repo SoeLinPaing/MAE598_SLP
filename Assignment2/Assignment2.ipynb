{
 "cells": [
  {
   "cell_type": "markdown",
   "id": "765c7e18-0e48-42e4-9561-f798fc28c331",
   "metadata": {},
   "source": [
    "# Problem 1"
   ]
  },
  {
   "cell_type": "markdown",
   "id": "c84fa338-7f8a-4bdc-a854-a4ee3b295e96",
   "metadata": {},
   "source": [
    "$f(x_1, x_2) = 2x_1^2 - 4x_1x_2+1.5x_2^2+x_2$"
   ]
  },
  {
   "cell_type": "markdown",
   "id": "3dabe601-3b97-4f7c-b42a-afef95960c93",
   "metadata": {},
   "source": [
    "Show that the stationary point (zero gradient) of the function is a saddle (with indefinite Hessian)."
   ]
  },
  {
   "cell_type": "markdown",
   "id": "bc167418-363b-49b3-91a6-144ffc32bcf1",
   "metadata": {},
   "source": [
    "\\begin{gather}\n",
    "\\nabla f(x)  =  \n",
    "\\begin{bmatrix}\n",
    "4x_1-4x_2 \\\\\n",
    "-4x_1+3x_2+1 \n",
    "\\end{bmatrix}\n",
    "\\end{gather}"
   ]
  },
  {
   "cell_type": "markdown",
   "id": "f2f9f94c-d3d5-4ec7-ba46-dba30f2808f0",
   "metadata": {},
   "source": [
    "The gradient is 0 at $x_1 = 1$, $x_2 = 1$."
   ]
  },
  {
   "cell_type": "markdown",
   "id": "866bb417-312b-4558-a37c-85268ffe6348",
   "metadata": {},
   "source": [
    "\\begin{gather}\n",
    " H  =  \n",
    "\\begin{bmatrix}\n",
    "4 & -4 \\\\\n",
    "-4 & 3\\end{bmatrix}\n",
    "\\end{gather}"
   ]
  },
  {
   "cell_type": "markdown",
   "id": "884a6529-b8c8-4e3f-b4a7-66487a7ed9d3",
   "metadata": {},
   "source": [
    "Eigen values for Hessian are −0.53 and 7.53. Hessian is indefinite and we have a saddle."
   ]
  },
  {
   "cell_type": "markdown",
   "id": "1e610e90-fcfc-4636-8d50-c550ffa57400",
   "metadata": {},
   "source": [
    "Find the directions of downslopes away from the saddle."
   ]
  },
  {
   "cell_type": "markdown",
   "id": "a1d9d6f0-17f2-4930-ae41-8425836a80a2",
   "metadata": {},
   "source": [
    "Taylor expansion around saddle point can be written as\n",
    "\\begin{gather}\n",
    "\\begin{split}\n",
    "f(x_1, x_2) &\\approx f(1,1) + \\left. \\nabla_x f\\right|_{x_0}^T(x-x_0) + \\frac{1}{2} (x-x_0)^T \\left. H_f\\right|_{x_0}(x-x_0)   \n",
    "\\end{split}\n",
    "\\end{gather}"
   ]
  },
  {
   "cell_type": "markdown",
   "id": "93650e00-a5b6-428e-8344-a00eaeed6cba",
   "metadata": {},
   "source": [
    "Since"
   ]
  },
  {
   "cell_type": "markdown",
   "id": "5855cde1-037a-4660-95d0-64ce9628e0b7",
   "metadata": {},
   "source": [
    "$f(1,1) = \\frac{1}{2}, \\left. \\nabla_x f\\right|_{x_0} = 0 \\text{    and    } H = \\begin{bmatrix}\n",
    "4 & -4 \\\\\n",
    "-4 & 3\\end{bmatrix}$"
   ]
  },
  {
   "cell_type": "markdown",
   "id": "55c084a4-cd02-46c8-810e-e223be3e3ad4",
   "metadata": {},
   "source": [
    "\\begin{gather}\n",
    "\\begin{split}\n",
    "f(x_1, x_2) &\\approx \\frac{1}{2} + \\frac{1}{2} [x_1-1 \\quad x_2-1] \\begin{bmatrix}\n",
    "4 & -4 \\\\\n",
    "-4 & 3\\end{bmatrix}\n",
    "\\begin{bmatrix}\n",
    "x_1-1  \\\\\n",
    "x_2-1 \\end{bmatrix} \\\\\n",
    "f(x_1, x_2) - \\frac{1}{2} &\\approx 2(x_1-1)^2 - 4(x_1-1)(x_2-1)+\\frac{3}{2}(x_2-1)^2\n",
    "\\end{split} \n",
    "\\end{gather}"
   ]
  },
  {
   "cell_type": "markdown",
   "id": "9fde26de-7a8e-495d-91b4-ac1406809f5b",
   "metadata": {},
   "source": [
    "This can be rewritten in the form of $[a(x_1-1)-b(x_2-1)][c(x_1-1)-d(x_2-1)]$.<br>\n",
    "And the roots are $a = 3$, $b = \\frac{3}{2}$, $c = \\frac{2}{3}$ and $d = 1$\n"
   ]
  },
  {
   "cell_type": "markdown",
   "id": "69b75321-abed-492c-b523-1bf9a9d6443d",
   "metadata": {},
   "source": [
    "Then, \n",
    "\\begin{gather}\n",
    "f(x_1, x_2) - \\frac{1}{2} &\\approx [3(x_1-1)-\\frac{3}{2}(x_2-1)][\\frac{2}{3}(x_1-1)-(x_2-1)]\n",
    "\\end{gather}"
   ]
  },
  {
   "cell_type": "markdown",
   "id": "84faaf44-d527-4532-909f-3856e23cf6c7",
   "metadata": {},
   "source": [
    "For $f(x_1, x_2) - \\frac{1}{2} < 0 $, $[3(x_1-1)-\\frac{3}{2}(x_2-1)][\\frac{2}{3}(x_1-1)-(x_2-1)] < 0$"
   ]
  },
  {
   "cell_type": "markdown",
   "id": "3b415713-482e-487b-a231-3fc912c8fdc3",
   "metadata": {},
   "source": [
    "\\begin{gather}\n",
    "[3(x_1-1)-\\frac{3}{2}(x_2-1)] < 0 \\quad\\text{or} \\quad [\\frac{2}{3}(x_1-1)-(x_2-1)]<0\n",
    "\\end{gather}"
   ]
  },
  {
   "cell_type": "markdown",
   "id": "e13e5759-c330-4c53-b27f-7916191c7635",
   "metadata": {},
   "source": [
    "\\begin{gather}\n",
    "3\\partial x_1-\\frac{3}{2}\\partial x_2 <0 \\quad \\text{or} \\quad \\frac{2}{3}\\partial x_1-\\partial x_2 <0 \\\\\n",
    "\\end{gather}"
   ]
  },
  {
   "cell_type": "markdown",
   "id": "a7d60732-a695-430e-b0ba-3bed6ca42da3",
   "metadata": {},
   "source": [
    "The direction of downslopes away from saddle is"
   ]
  },
  {
   "cell_type": "markdown",
   "id": "16bf2e23-8965-4bb8-a954-2fd2de960a27",
   "metadata": {},
   "source": [
    "\\begin{gather}\n",
    "2\\partial x_1 <\\partial x_2 \\quad \\text{or} \\quad 2\\partial x_1 <3\\partial x_2 \\\\\n",
    "\\end{gather}"
   ]
  },
  {
   "cell_type": "markdown",
   "id": "d28c76fe-357c-4565-a4e2-3a38c94dbd12",
   "metadata": {},
   "source": [
    " <br /><br />  <hr /> <br /> <br />"
   ]
  },
  {
   "cell_type": "markdown",
   "id": "7bce9ab4-4c10-4e28-bcd3-f2892b8936c0",
   "metadata": {},
   "source": [
    "# Problem 2 (a)"
   ]
  },
  {
   "cell_type": "markdown",
   "id": "1b2cf21f-c013-4732-90f3-47accf920422",
   "metadata": {},
   "source": [
    " Find the point in the plane $x_1 + 2x_2 + 3x_3 = 1$ in $R^3$ that is nearest to the point $(−1, 0, 1)^T$. Is this a convex problem?"
   ]
  },
  {
   "cell_type": "markdown",
   "id": "559f02b5-f446-4b23-b1b6-d8d9fc282120",
   "metadata": {},
   "source": [
    "The problem can be defined using distance formula as:"
   ]
  },
  {
   "cell_type": "markdown",
   "id": "3462de89-90c9-4c70-b04a-d7f091cd8284",
   "metadata": {},
   "source": [
    "\\begin{gather}\n",
    "\\text{min}\\quad d^2 = (x_1+1)^2+(x_2)^2+(x_3-1)^2\n",
    "\\end{gather}"
   ]
  },
  {
   "cell_type": "markdown",
   "id": "57ed402b-c0ca-46f5-9ba0-689e99768378",
   "metadata": {},
   "source": [
    "Then, $f(x_1, x_2, x_3) = x_1^2 + 2x_1+ 1 + x_2^2+x_3^2-2x_3+1 $"
   ]
  },
  {
   "cell_type": "markdown",
   "id": "467ba456-faf5-4145-af85-d9aaf5b691da",
   "metadata": {},
   "source": [
    "$f(x_1, x_2, x_3) = x_1^2 + 2x_1 + x_2^2+x_3^2-2x_3+ 2 $"
   ]
  },
  {
   "cell_type": "markdown",
   "id": "9a1889c6-cd19-49b5-a0e7-5d571a34ee7b",
   "metadata": {},
   "source": [
    "\\begin{gather}\n",
    "\\nabla f = \n",
    "\\begin{bmatrix}\n",
    "2x_1+2 \\\\\n",
    "2x_2 \\\\\n",
    "2x_3-2 \\\\\n",
    "\\end{bmatrix}\n",
    "\\end{gather}"
   ]
  },
  {
   "cell_type": "markdown",
   "id": "6863a6fe-7652-4416-9530-0ba2db6a37c3",
   "metadata": {},
   "source": [
    "\\begin{gather}\n",
    "H = \n",
    "\\begin{bmatrix}\n",
    "2& 0& 0\\\\\n",
    "0& 2& 0\\\\\n",
    "0& 0& 2\\\\\n",
    "\\end{bmatrix}\n",
    "\\end{gather}"
   ]
  },
  {
   "cell_type": "markdown",
   "id": "b4fac682-3a19-448c-8462-ac5db97efa66",
   "metadata": {},
   "source": [
    "Eigen values for this Hessian is $\\lambda_1, \\lambda_2, \\lambda_3 = 2$"
   ]
  },
  {
   "cell_type": "markdown",
   "id": "626c8c69-63fa-4843-bdca-a960cbaf1371",
   "metadata": {},
   "source": [
    "From $x_1 + 2x_2 + 3x_3 = 1$, $x_1 = 1 - 2x_2 - 3x_3$"
   ]
  },
  {
   "cell_type": "markdown",
   "id": "ed217d2f-606f-46a7-a766-61c82bb1502f",
   "metadata": {},
   "source": [
    "Then, $f(x_2, x_3) = (1 - 2x_2 - 3x_3)^2+ 2x_1 + x_2^2+x_3^2-2x_3+ 2$"
   ]
  },
  {
   "cell_type": "markdown",
   "id": "313587d1-a325-4139-9909-59fbca80f376",
   "metadata": {},
   "source": [
    "$f(x_2, x_3) = 5x_2^2 + 12x_2x_3 - 8x_2 + 10x_3^2 - 14x_3+ 15$"
   ]
  },
  {
   "cell_type": "markdown",
   "id": "1cbaaff4-3a28-4122-9410-b7a0ba7f4a88",
   "metadata": {},
   "source": [
    "\\begin{gather}\n",
    "\\nabla f = \n",
    "\\begin{bmatrix}\n",
    "10x_2+12x_3-8 \\\\\n",
    "12x_2+20x_3-14 \\\\\n",
    "\\end{bmatrix}\n",
    "\\end{gather}"
   ]
  },
  {
   "cell_type": "markdown",
   "id": "35d360eb-1af8-4ee1-81c6-3c641a7ced09",
   "metadata": {},
   "source": [
    "\\begin{gather}\n",
    "H = \n",
    "\\begin{bmatrix}\n",
    "10& 12\\\\\n",
    "12& 20\\\\\n",
    "\\end{bmatrix}\n",
    "\\end{gather}"
   ]
  },
  {
   "cell_type": "markdown",
   "id": "3098c102-b665-4e45-b680-60197c237233",
   "metadata": {},
   "source": [
    "Eigen values for this Hessian is $\\lambda_1 = 28, \\lambda_2 = 2$"
   ]
  },
  {
   "cell_type": "markdown",
   "id": "c04b03cf-8f89-4597-ab1b-9e7c71073de0",
   "metadata": {},
   "source": [
    "To find the closest point, $\\nabla f$ is set to 0"
   ]
  },
  {
   "cell_type": "markdown",
   "id": "880b00d3-6e2f-4449-bba0-22a59a948b91",
   "metadata": {},
   "source": [
    "\\begin{gather}\n",
    "10x_2+12x_3-8 = 0 \\\\\n",
    "12x_2+20x_3-14 = 0\n",
    "\\end{gather}"
   ]
  },
  {
   "cell_type": "markdown",
   "id": "6105447f-a594-4b5a-b8d4-f9b368fcd595",
   "metadata": {},
   "source": [
    "The solution is:"
   ]
  },
  {
   "cell_type": "markdown",
   "id": "f351e7a2-5846-4f10-814c-6b327edc2d2e",
   "metadata": {},
   "source": [
    "$x_2 = \\frac{-1}{7}, x_3 = \\frac{11}{14}, x_1 = \\frac{-15}{14}$"
   ]
  },
  {
   "cell_type": "markdown",
   "id": "05d3371d-45f6-49a2-a26c-6a081f83775a",
   "metadata": {},
   "source": [
    "This is a convex problem because the hessian is positive definite."
   ]
  },
  {
   "cell_type": "markdown",
   "id": "2ced37f8-266a-423b-a580-a6e06d04759c",
   "metadata": {},
   "source": [
    "# Problem 2 (b)"
   ]
  },
  {
   "cell_type": "markdown",
   "id": "44118a6e-0832-4329-a519-707ba8e8508e",
   "metadata": {},
   "source": [
    "## Part 1: Gradient Descent"
   ]
  },
  {
   "cell_type": "code",
   "execution_count": null,
   "id": "ca869df4-b266-4230-8b53-a428b40d4ab9",
   "metadata": {},
   "outputs": [],
   "source": [
    "import numpy as np\n",
    "import matplotlib.pyplot as plt"
   ]
  },
  {
   "cell_type": "markdown",
   "id": "337c5ada-e2ef-4f6c-8667-65ddd7bdf613",
   "metadata": {},
   "source": [
    "Problem definition:"
   ]
  },
  {
   "cell_type": "code",
   "execution_count": null,
   "id": "d3c8be98-80d4-4b73-b800-c7bacb0fecc2",
   "metadata": {},
   "outputs": [],
   "source": [
    "def func(x):\n",
    "    x2 = x[0]\n",
    "    x3 = x[1]\n",
    "    return 5 * x2 ** 2 + 12 * x2 * x3 - 8 * x2 + 10 * x3 ** 2 - 14 * x3 - 5"
   ]
  },
  {
   "cell_type": "markdown",
   "id": "ba96a944-5bfd-42a5-9d4d-5af3d2001442",
   "metadata": {},
   "source": [
    "Gradient of the problem:"
   ]
  },
  {
   "cell_type": "code",
   "execution_count": null,
   "id": "54721245-8786-4807-a792-f7b32b2de326",
   "metadata": {},
   "outputs": [],
   "source": [
    "def grad_func(x):\n",
    "    x2 = x[0]\n",
    "    x3 = x[1]\n",
    "    g = np.array([10 * x2 + 12 * x3 - 8, 12 * x2 + 20 * x3 - 14])\n",
    "    return g"
   ]
  },
  {
   "cell_type": "code",
   "execution_count": null,
   "id": "732dc5a1-1c66-435b-9654-da46ebee71b9",
   "metadata": {},
   "outputs": [],
   "source": [
    "def phi_func(alpha, t, f, g):\n",
    "    phi = f - t*np.matmul(g.T,g)*alpha \n",
    "    return phi"
   ]
  },
  {
   "cell_type": "code",
   "execution_count": null,
   "id": "3688eb3f-153f-4c4e-860e-de13807b2762",
   "metadata": {
    "tags": []
   },
   "outputs": [],
   "source": [
    "def armijo(x, alpha = 1, t = 0.5, max_iter = 1000):\n",
    "    iteration = 0\n",
    "    f = func(x)\n",
    "    g = grad_func(x)\n",
    "    f_shift = func(x-alpha*g)\n",
    "    Phi = phi_func(alpha, t, f, g)\n",
    "    \n",
    "    while f_shift>Phi and iteration<max_iter:\n",
    "        f = func(x)\n",
    "        g = grad_func(x)\n",
    "        f_shift = func(x-alpha*g)\n",
    "        Phi = phi_func(alpha, t, f, g)\n",
    "        alpha = 0.5*alpha\n",
    "        iteration += 1\n",
    "\n",
    "    return alpha "
   ]
  },
  {
   "cell_type": "code",
   "execution_count": null,
   "id": "9cf113c5-60c3-40de-9492-6e07d87b074c",
   "metadata": {},
   "outputs": [],
   "source": [
    "def gradient_descent(x, alpha = 1, t = 0.5, max_iter = 1000):\n",
    "    summary = []\n",
    "    iteration = 0;\n",
    "    f = func(x)\n",
    "    g = grad_func(x)\n",
    "    \n",
    "    while iteration<max_iter:\n",
    "        alpha = armijo(x,alpha,t,max_iter)\n",
    "        x = x - alpha*g\n",
    "        f = func(x)\n",
    "        g = grad_func(x)\n",
    "        iteration += 1\n",
    "        summary.append([x[0],x[1], f,alpha, iteration])\n",
    "    return x, summary"
   ]
  },
  {
   "cell_type": "code",
   "execution_count": null,
   "id": "616e7070-2ff8-4537-99f3-9be9a74b748f",
   "metadata": {
    "tags": []
   },
   "outputs": [],
   "source": [
    "x, summary = gradient_descent(np.array([[0],[0]]),1,0.5,1000)"
   ]
  },
  {
   "cell_type": "code",
   "execution_count": null,
   "id": "8b38e491-a28e-467e-95b0-ae9b828da14f",
   "metadata": {},
   "outputs": [],
   "source": [
    "x2 = x[0]\n",
    "print(x2)\n",
    "x3 = x[1]\n",
    "print(x3)\n",
    "x1 = 1- 2*x2 - 3*x3\n",
    "print(x1)"
   ]
  },
  {
   "cell_type": "code",
   "execution_count": null,
   "id": "5dafa368-d1d3-45f6-8994-62512ac55c5a",
   "metadata": {},
   "outputs": [],
   "source": [
    "def extract(lst, index):\n",
    "    return [item[index] for item in lst]"
   ]
  },
  {
   "cell_type": "code",
   "execution_count": null,
   "id": "9a024f9b-2320-48e6-804d-f79248bbb1e7",
   "metadata": {},
   "outputs": [],
   "source": [
    "f = extract(summary, 2)\n",
    "iteration = extract(summary, 4)"
   ]
  },
  {
   "cell_type": "markdown",
   "id": "f634fb2e-7e0b-427f-a958-0e519b9c681d",
   "metadata": {},
   "source": [
    "Testing another initial point"
   ]
  },
  {
   "cell_type": "code",
   "execution_count": null,
   "id": "a199c82a-1dc4-4f52-8ca4-754e7db23e4c",
   "metadata": {},
   "outputs": [],
   "source": [
    "x, summary = gradient_descent(np.array([[1],[-1]]),1,0.5,1000)\n",
    "x2 = x[0]\n",
    "print(x2)\n",
    "x3 = x[1]\n",
    "print(x3)\n",
    "x1 = 1- 2*x2 - 3*x3\n",
    "print(x1)\n",
    "f1 = extract(summary, 2)\n",
    "iteration1 = extract(summary, 4)"
   ]
  },
  {
   "cell_type": "markdown",
   "id": "7abbf87a-3fc5-4433-bc50-4d6e1eb4c08d",
   "metadata": {},
   "source": [
    "(1) Initial points tested are [0,0] and [1,-1]. Regardless of the initial points, algorithm reaches to the points which minimize the distance.\n",
    "(2) Solution for initial point [0,0] is [-1.07142857, -0.14285695, 0.78571416] and solution for initial point [1,-1] is [-1.07142857 -0.14285703, 0.78571421]."
   ]
  },
  {
   "cell_type": "code",
   "execution_count": null,
   "id": "a4b1a0a1-1748-47d0-bf57-827019aad52e",
   "metadata": {},
   "outputs": [],
   "source": [
    "plt.xscale(\"log\")\n",
    "plt.xlabel(\"iterations\")\n",
    "plt.ylabel(\"cost function\")\n",
    "plt.plot(iteration, f, label = \"initial point [0,0]\")\n",
    "plt.plot(iteration1, f1, label = \"initial point [1,-1]\")\n",
    "plt.legend(loc=\"upper right\")"
   ]
  },
  {
   "cell_type": "markdown",
   "id": "94fdc71d-ecf1-4185-91ab-6c2a2d05683e",
   "metadata": {},
   "source": [
    "## Part 2: Newton's method"
   ]
  },
  {
   "cell_type": "code",
   "execution_count": null,
   "id": "1498b737-8450-4cb8-9490-be60a89d387c",
   "metadata": {},
   "outputs": [],
   "source": [
    "def Newton(x, max_iter = 100, step = 0.5):\n",
    "    summary = []\n",
    "    H = np.array([[10, 12],[12, 20]])\n",
    "    iteration = 0\n",
    "    f = func(x)\n",
    "    g = grad_func(x)\n",
    "    g_norm = np.linalg.norm(g)\n",
    "    while iteration < max_iter: \n",
    "        x = x - step*np.matmul(np.linalg.inv(H),g)\n",
    "        f = func(x)\n",
    "        g = grad_func(x)\n",
    "        g_norm = np.linalg.norm(g)\n",
    "        iteration += 1;\n",
    "        summary.append([x[0],x[1], f, iteration])\n",
    "    return x, summary"
   ]
  },
  {
   "cell_type": "code",
   "execution_count": null,
   "id": "c18aaf3f-274e-469e-bcdd-0b163039fbf2",
   "metadata": {},
   "outputs": [],
   "source": [
    "x, summary = Newton(np.array([[0],[0]]),100)"
   ]
  },
  {
   "cell_type": "code",
   "execution_count": null,
   "id": "58fc3193-2fce-4c89-b122-12b18c3b8331",
   "metadata": {},
   "outputs": [],
   "source": [
    "x2 = x[0]\n",
    "print(x2)\n",
    "x3 = x[1]\n",
    "print(x3)\n",
    "x1 = 1- 2*x2 - 3*x3\n",
    "print(x1)"
   ]
  },
  {
   "cell_type": "code",
   "execution_count": 280,
   "id": "fcd16cd8-5769-496b-b874-d43321bf3c91",
   "metadata": {},
   "outputs": [
    {
     "name": "stdout",
     "output_type": "stream",
     "text": [
      "[-0.14285714]\n",
      "[0.78571429]\n",
      "[-1.07142857]\n"
     ]
    }
   ],
   "source": [
    "f = extract(summary, 2)\n",
    "iteration = extract(summary, 3)\n",
    "x, summary = Newton(np.array([[1],[-1]]),100)\n",
    "x2 = x[0]\n",
    "print(x2)\n",
    "x3 = x[1]\n",
    "print(x3)\n",
    "x1 = 1- 2*x2 - 3*x3\n",
    "print(x1)\n",
    "f1 = extract(summary, 2)\n",
    "iteration1 = extract(summary, 3)"
   ]
  },
  {
   "cell_type": "markdown",
   "id": "7a64e3bf-d418-49d9-8ff8-df912c8d4140",
   "metadata": {},
   "source": [
    "(1) Initial points tested are [0,0] and [1,-1]. Regardless of the initial points, algorithm reaches to the points which minimize the distance.\n",
    "(2) Solution for initial point [0,0] is [-1.07142857, 0.78571429, -0.14285714] and solution for initial point [1,-1] is [-1.07142857, 0.78571429, -0.14285714]."
   ]
  },
  {
   "cell_type": "code",
   "execution_count": null,
   "id": "7a440778-6cf5-4a02-87de-ae4480435b48",
   "metadata": {},
   "outputs": [],
   "source": [
    "plt.xscale(\"log\")\n",
    "plt.xlabel(\"iterations\")\n",
    "plt.ylabel(\"cost function\")\n",
    "plt.plot(iteration, f, label = \"initial point [0,0]\")\n",
    "plt.plot(iteration1, f1, label = \"initial point [1,-1]\")\n",
    "plt.legend(loc=\"upper right\")"
   ]
  },
  {
   "cell_type": "markdown",
   "id": "a46f4a2b-8aab-4bb4-af1c-ed9370cb39bf",
   "metadata": {},
   "source": [
    " <br /><br />  <hr /> <br /> <br />"
   ]
  },
  {
   "cell_type": "markdown",
   "id": "69d9e254-8e61-4df4-b204-c13016210512",
   "metadata": {},
   "source": [
    "# Problem 3"
   ]
  },
  {
   "cell_type": "markdown",
   "id": "1a5ef6dc-2cca-4c00-9cec-f59f1f35e7cd",
   "metadata": {},
   "source": [
    "Prove that a hyperplane is a convex set. Hint: A hyperplane in $R^n$ can be expressed as: $a^Tx = c$ for $x ∈ R^n$, where a is the normal direction of the hyperplane and c is some constant.\n"
   ]
  },
  {
   "cell_type": "markdown",
   "id": "82fa77de-f3d9-471f-98cd-581e1f13b01c",
   "metadata": {},
   "source": [
    "For arbitrary points $x_1$ and $x_2$ where $x_1, x_2 \\in S$ "
   ]
  },
  {
   "cell_type": "markdown",
   "id": "22e147b4-5ec0-4e8c-8730-7949e944c567",
   "metadata": {},
   "source": [
    "\\begin{gather}\n",
    "a^Tx_1 = c \\\\\n",
    "a^Tx_2 = c\n",
    "\\end{gather}"
   ]
  },
  {
   "cell_type": "markdown",
   "id": "254fbae4-cbe4-4e9e-9f23-f24e171ebc78",
   "metadata": {},
   "source": [
    "The space is convex if $\\lambda x_1+(1-\\lambda)x_2 \\in S$"
   ]
  },
  {
   "cell_type": "markdown",
   "id": "29077b55-4217-47a2-a4f9-46b952d61e6c",
   "metadata": {},
   "source": [
    "Linear transformation by $a$ gives:"
   ]
  },
  {
   "cell_type": "markdown",
   "id": "efd653a6-d517-4dce-b585-5f1ea55830db",
   "metadata": {},
   "source": [
    "\\begin{gather}\n",
    "a^T(\\lambda x_1+(1-\\lambda)x_2) = \\lambda a^Tx_1+(1-\\lambda)a^Tx_2 = \\lambda c+(1-\n",
    "\\lambda)c = c\n",
    "\\end{gather}"
   ]
  },
  {
   "cell_type": "markdown",
   "id": "ada5716b-4fac-47f6-a066-84e9b435e839",
   "metadata": {},
   "source": [
    "The hyperplane is convex."
   ]
  },
  {
   "cell_type": "markdown",
   "id": "a0370cbc-36fe-4517-bcf8-bf3683ac1b3f",
   "metadata": {},
   "source": [
    " <br /><br />  <hr /> <br /> <br />"
   ]
  },
  {
   "cell_type": "markdown",
   "id": "6e30abdf-6573-4bae-a176-b56cb6de5f6b",
   "metadata": {},
   "source": [
    "# Problem 5"
   ]
  },
  {
   "cell_type": "markdown",
   "id": "87171a25-e6f5-407b-9c70-33c4812720cf",
   "metadata": {},
   "source": [
    "Let c(x) be the cost of producing x amount of product A and assume that c(x) is differentiable everywhere. Let y be the price set for the product. Assuming that the product is sold out. The total profit is defined as: $c^*(y) = \\underset{x}{\\text{max}}\\{xy-c(x)\\}$\n"
   ]
  },
  {
   "cell_type": "markdown",
   "id": "a0a426ac-dd9d-41e3-8a73-e61744be1f24",
   "metadata": {},
   "source": [
    "Show that $c^∗(y)$ is a convex function with respect to y."
   ]
  },
  {
   "cell_type": "markdown",
   "id": "f249a63c-9199-4ca0-8d87-e9fd88d344e0",
   "metadata": {},
   "source": [
    "We need to show that $xy-c(x)$ is convex for c^* to be convex."
   ]
  },
  {
   "cell_type": "markdown",
   "id": "a1fa18fe-1c9b-4742-a2dd-48e6274ca056",
   "metadata": {},
   "source": [
    "\\begin{gather}\n",
    "\\nabla_y f = x \\\\\n",
    "H = 0\n",
    "\\end{gather}"
   ]
  },
  {
   "cell_type": "markdown",
   "id": "8295c4f4-6766-4f18-86f3-4a1151e5d609",
   "metadata": {},
   "source": [
    "Since the hessian is positive semi definite, the space is the convex set."
   ]
  }
 ],
 "metadata": {
  "kernelspec": {
   "display_name": "Python 3 (ipykernel)",
   "language": "python",
   "name": "python3"
  },
  "language_info": {
   "codemirror_mode": {
    "name": "ipython",
    "version": 3
   },
   "file_extension": ".py",
   "mimetype": "text/x-python",
   "name": "python",
   "nbconvert_exporter": "python",
   "pygments_lexer": "ipython3",
   "version": "3.10.4"
  }
 },
 "nbformat": 4,
 "nbformat_minor": 5
}
