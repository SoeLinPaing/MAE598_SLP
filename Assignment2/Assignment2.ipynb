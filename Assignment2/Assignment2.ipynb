{
 "cells": [
  {
   "cell_type": "markdown",
   "id": "765c7e18-0e48-42e4-9561-f798fc28c331",
   "metadata": {},
   "source": [
    "# Problem 1"
   ]
  },
  {
   "cell_type": "markdown",
   "id": "c84fa338-7f8a-4bdc-a854-a4ee3b295e96",
   "metadata": {},
   "source": [
    "$f(x_1, x_2) = 2x_1^2 - 4x_1x_2+1.5x_2^2+x_2$"
   ]
  },
  {
   "cell_type": "markdown",
   "id": "3dabe601-3b97-4f7c-b42a-afef95960c93",
   "metadata": {},
   "source": [
    "Show that the stationary point (zero gradient) of the function is a saddle (with indefinite Hessian)."
   ]
  },
  {
   "cell_type": "markdown",
   "id": "bc167418-363b-49b3-91a6-144ffc32bcf1",
   "metadata": {},
   "source": [
    "\\begin{gather}\n",
    "\\nabla f(x)  =  \n",
    "\\begin{bmatrix}\n",
    "4x_1-4x_2 \\\\\n",
    "-4x_1+3x_2+1 \n",
    "\\end{bmatrix}\n",
    "\\end{gather}"
   ]
  },
  {
   "cell_type": "markdown",
   "id": "f2f9f94c-d3d5-4ec7-ba46-dba30f2808f0",
   "metadata": {},
   "source": [
    "The gradient is 0 at $x_1 = 1$, $x_2 = 1$."
   ]
  },
  {
   "cell_type": "markdown",
   "id": "866bb417-312b-4558-a37c-85268ffe6348",
   "metadata": {},
   "source": [
    "\\begin{gather}\n",
    " H  =  \n",
    "\\begin{bmatrix}\n",
    "4 & -4 \\\\\n",
    "-4 & 3\\end{bmatrix}\n",
    "\\end{gather}"
   ]
  },
  {
   "cell_type": "markdown",
   "id": "884a6529-b8c8-4e3f-b4a7-66487a7ed9d3",
   "metadata": {},
   "source": [
    "Eigen values for Hessian are −0.53 and 7.53. Hessian is indefinite and we have a saddle."
   ]
  },
  {
   "cell_type": "markdown",
   "id": "1e610e90-fcfc-4636-8d50-c550ffa57400",
   "metadata": {},
   "source": [
    "Find the directions of downslopes away from the saddle."
   ]
  },
  {
   "cell_type": "markdown",
   "id": "a1d9d6f0-17f2-4930-ae41-8425836a80a2",
   "metadata": {},
   "source": [
    "Taylor expansion around saddle point can be written as\n",
    "\\begin{gather}\n",
    "\\begin{split}\n",
    "f(x_1, x_2) &\\approx f(1,1) + \\left. \\nabla_x f\\right|_{x_0}^T(x-x_0) + \\frac{1}{2} (x-x_0)^T \\left. H_f\\right|_{x_0}(x-x_0)   \n",
    "\\end{split}\n",
    "\\end{gather}"
   ]
  },
  {
   "cell_type": "markdown",
   "id": "93650e00-a5b6-428e-8344-a00eaeed6cba",
   "metadata": {},
   "source": [
    "Since"
   ]
  },
  {
   "cell_type": "markdown",
   "id": "5855cde1-037a-4660-95d0-64ce9628e0b7",
   "metadata": {},
   "source": [
    "$f(1,1) = \\frac{1}{2}, \\left. \\nabla_x f\\right|_{x_0} = 0 \\text{    and    } H = \\begin{bmatrix}\n",
    "4 & -4 \\\\\n",
    "-4 & 3\\end{bmatrix}$"
   ]
  },
  {
   "cell_type": "markdown",
   "id": "55c084a4-cd02-46c8-810e-e223be3e3ad4",
   "metadata": {},
   "source": [
    "\\begin{gather}\n",
    "\\begin{split}\n",
    "f(x_1, x_2) &\\approx \\frac{1}{2} + \\frac{1}{2} [x_1-1 \\quad x_2-1] \\begin{bmatrix}\n",
    "4 & -4 \\\\\n",
    "-4 & 3\\end{bmatrix}\n",
    "\\begin{bmatrix}\n",
    "x_1-1  \\\\\n",
    "x_2-1 \\end{bmatrix} \\\\\n",
    "f(x_1, x_2) - \\frac{1}{2} &\\approx 2(x_1-1)^2 - 4(x_1-1)(x_2-1)+\\frac{3}{2}(x_2-1)^2\n",
    "\\end{split} \n",
    "\\end{gather}"
   ]
  },
  {
   "cell_type": "markdown",
   "id": "9fde26de-7a8e-495d-91b4-ac1406809f5b",
   "metadata": {},
   "source": [
    "This can be rewritten in the form of $[a(x_1-1)-b(x_2-1)][c(x_1-1)-d(x_2-1)]$.<br>\n",
    "And the roots are $a = 3$, $b = \\frac{3}{2}$, $c = \\frac{2}{3}$ and $d = 1$\n"
   ]
  },
  {
   "cell_type": "markdown",
   "id": "69b75321-abed-492c-b523-1bf9a9d6443d",
   "metadata": {},
   "source": [
    "Then, \n",
    "\\begin{gather}\n",
    "f(x_1, x_2) - \\frac{1}{2} &\\approx [3(x_1-1)-\\frac{3}{2}(x_2-1)][\\frac{2}{3}(x_1-1)-(x_2-1)]\n",
    "\\end{gather}"
   ]
  },
  {
   "cell_type": "markdown",
   "id": "84faaf44-d527-4532-909f-3856e23cf6c7",
   "metadata": {},
   "source": [
    "For $f(x_1, x_2) - \\frac{1}{2} < 0 $, $[3(x_1-1)-\\frac{3}{2}(x_2-1)][\\frac{2}{3}(x_1-1)-(x_2-1)] < 0$"
   ]
  },
  {
   "cell_type": "markdown",
   "id": "3b415713-482e-487b-a231-3fc912c8fdc3",
   "metadata": {},
   "source": [
    "\\begin{gather}\n",
    "[3(x_1-1)-\\frac{3}{2}(x_2-1)] < 0 \\quad\\text{or} \\quad [\\frac{2}{3}(x_1-1)-(x_2-1)]<0\n",
    "\\end{gather}"
   ]
  },
  {
   "cell_type": "markdown",
   "id": "e13e5759-c330-4c53-b27f-7916191c7635",
   "metadata": {},
   "source": [
    "\\begin{gather}\n",
    "3\\partial x_1-\\frac{3}{2}\\partial x_2 <0 \\quad \\text{or} \\quad \\frac{2}{3}\\partial x_1-\\partial x_2 <0 \\\\\n",
    "\\end{gather}"
   ]
  },
  {
   "cell_type": "markdown",
   "id": "a7d60732-a695-430e-b0ba-3bed6ca42da3",
   "metadata": {},
   "source": [
    "The direction of downslopes away from saddle is"
   ]
  },
  {
   "cell_type": "markdown",
   "id": "16bf2e23-8965-4bb8-a954-2fd2de960a27",
   "metadata": {},
   "source": [
    "\\begin{gather}\n",
    "2\\partial x_1 <\\partial x_2 \\quad \\text{or} \\quad 2\\partial x_1 <3\\partial x_2 \\\\\n",
    "\\end{gather}"
   ]
  },
  {
   "cell_type": "markdown",
   "id": "d28c76fe-357c-4565-a4e2-3a38c94dbd12",
   "metadata": {},
   "source": [
    " <br /><br />  <hr /> <br /> <br />"
   ]
  },
  {
   "cell_type": "markdown",
   "id": "7bce9ab4-4c10-4e28-bcd3-f2892b8936c0",
   "metadata": {},
   "source": [
    "# Problem 2 (a)"
   ]
  },
  {
   "cell_type": "markdown",
   "id": "1b2cf21f-c013-4732-90f3-47accf920422",
   "metadata": {},
   "source": [
    " Find the point in the plane $x_1 + 2x_2 + 3x_3 = 1$ in $R^3$ that is nearest to the point $(−1, 0, 1)^T$. Is this a convex problem?"
   ]
  },
  {
   "cell_type": "markdown",
   "id": "559f02b5-f446-4b23-b1b6-d8d9fc282120",
   "metadata": {},
   "source": [
    "The problem can be defined using distance formula as:"
   ]
  },
  {
   "cell_type": "markdown",
   "id": "3462de89-90c9-4c70-b04a-d7f091cd8284",
   "metadata": {},
   "source": [
    "\\begin{gather}\n",
    "\\text{min}\\quad d^2 = (x_1+1)^2+(x_2)^2+(x_3-1)^2\n",
    "\\end{gather}"
   ]
  },
  {
   "cell_type": "markdown",
   "id": "57ed402b-c0ca-46f5-9ba0-689e99768378",
   "metadata": {},
   "source": [
    "Then, $f(x_1, x_2, x_3) = x_1^2 + 2x_1+ 1 + x_2^2+x_3^2-2x_3+1 $"
   ]
  },
  {
   "cell_type": "markdown",
   "id": "467ba456-faf5-4145-af85-d9aaf5b691da",
   "metadata": {},
   "source": [
    "$f(x_1, x_2, x_3) = x_1^2 + 2x_1 + x_2^2+x_3^2-2x_3+ 2 $"
   ]
  },
  {
   "cell_type": "markdown",
   "id": "9a1889c6-cd19-49b5-a0e7-5d571a34ee7b",
   "metadata": {},
   "source": [
    "\\begin{gather}\n",
    "\\nabla f = \n",
    "\\begin{bmatrix}\n",
    "2x_1+2 \\\\\n",
    "2x_2 \\\\\n",
    "2x_3-2 \\\\\n",
    "\\end{bmatrix}\n",
    "\\end{gather}"
   ]
  },
  {
   "cell_type": "markdown",
   "id": "6863a6fe-7652-4416-9530-0ba2db6a37c3",
   "metadata": {},
   "source": [
    "\\begin{gather}\n",
    "H = \n",
    "\\begin{bmatrix}\n",
    "2& 0& 0\\\\\n",
    "0& 2& 0\\\\\n",
    "0& 0& 2\\\\\n",
    "\\end{bmatrix}\n",
    "\\end{gather}"
   ]
  },
  {
   "cell_type": "markdown",
   "id": "b4fac682-3a19-448c-8462-ac5db97efa66",
   "metadata": {},
   "source": [
    "Eigen values for this Hessian is $\\lambda_1, \\lambda_2, \\lambda_3 = 2$"
   ]
  },
  {
   "cell_type": "markdown",
   "id": "626c8c69-63fa-4843-bdca-a960cbaf1371",
   "metadata": {},
   "source": [
    "From $x_1 + 2x_2 + 3x_3 = 1$, $x_1 = 1 - 2x_2 - 3x_3$"
   ]
  },
  {
   "cell_type": "markdown",
   "id": "ed217d2f-606f-46a7-a766-61c82bb1502f",
   "metadata": {},
   "source": [
    "Then, $f(x_2, x_3) = (1 - 2x_2 - 3x_3)^2+ 2x_1 + x_2^2+x_3^2-2x_3+ 2$"
   ]
  },
  {
   "cell_type": "markdown",
   "id": "313587d1-a325-4139-9909-59fbca80f376",
   "metadata": {},
   "source": [
    "$f(x_2, x_3) = 5x_2^2 + 12x_2x_3 - 8x_2 + 10x_3^2 - 14x_3+ 15$"
   ]
  },
  {
   "cell_type": "markdown",
   "id": "1cbaaff4-3a28-4122-9410-b7a0ba7f4a88",
   "metadata": {},
   "source": [
    "\\begin{gather}\n",
    "\\nabla f = \n",
    "\\begin{bmatrix}\n",
    "10x_2+12x_3-8 \\\\\n",
    "12x_2+20x_3-14 \\\\\n",
    "\\end{bmatrix}\n",
    "\\end{gather}"
   ]
  },
  {
   "cell_type": "markdown",
   "id": "35d360eb-1af8-4ee1-81c6-3c641a7ced09",
   "metadata": {},
   "source": [
    "\\begin{gather}\n",
    "H = \n",
    "\\begin{bmatrix}\n",
    "10& 12\\\\\n",
    "12& 20\\\\\n",
    "\\end{bmatrix}\n",
    "\\end{gather}"
   ]
  },
  {
   "cell_type": "markdown",
   "id": "3098c102-b665-4e45-b680-60197c237233",
   "metadata": {},
   "source": [
    "Eigen values for this Hessian is $\\lambda_1 = 28, \\lambda_2 = 2$"
   ]
  },
  {
   "cell_type": "markdown",
   "id": "c04b03cf-8f89-4597-ab1b-9e7c71073de0",
   "metadata": {},
   "source": [
    "To find the closest point, $\\nabla f$ is set to 0"
   ]
  },
  {
   "cell_type": "markdown",
   "id": "880b00d3-6e2f-4449-bba0-22a59a948b91",
   "metadata": {},
   "source": [
    "\\begin{gather}\n",
    "10x_2+12x_3-8 = 0 \\\\\n",
    "12x_2+20x_3-14 = 0\n",
    "\\end{gather}"
   ]
  },
  {
   "cell_type": "markdown",
   "id": "6105447f-a594-4b5a-b8d4-f9b368fcd595",
   "metadata": {},
   "source": [
    "The solution is:"
   ]
  },
  {
   "cell_type": "markdown",
   "id": "f351e7a2-5846-4f10-814c-6b327edc2d2e",
   "metadata": {},
   "source": [
    "$x_2 = \\frac{-1}{7}, x_3 = \\frac{11}{14}, x_1 = \\frac{-15}{14}$"
   ]
  },
  {
   "cell_type": "markdown",
   "id": "05d3371d-45f6-49a2-a26c-6a081f83775a",
   "metadata": {},
   "source": [
    "This is a convex problem because the hessian is positive definite."
   ]
  },
  {
   "cell_type": "markdown",
   "id": "2ced37f8-266a-423b-a580-a6e06d04759c",
   "metadata": {},
   "source": [
    "# Problem 2 (b)"
   ]
  },
  {
   "cell_type": "code",
   "execution_count": null,
   "id": "ca869df4-b266-4230-8b53-a428b40d4ab9",
   "metadata": {},
   "outputs": [],
   "source": []
  },
  {
   "cell_type": "markdown",
   "id": "e3e2bfb4-385e-4d6f-820c-4c47932536fc",
   "metadata": {},
   "source": [
    " <br /><br />  <hr /> <br /> <br />"
   ]
  },
  {
   "cell_type": "markdown",
   "id": "69d9e254-8e61-4df4-b204-c13016210512",
   "metadata": {},
   "source": [
    "# Problem 3"
   ]
  },
  {
   "cell_type": "markdown",
   "id": "1a5ef6dc-2cca-4c00-9cec-f59f1f35e7cd",
   "metadata": {},
   "source": [
    "Prove that a hyperplane is a convex set. Hint: A hyperplane in $R^n$ can be expressed as: $a^Tx = c$ for $x ∈ R^n$, where a is the normal direction of the hyperplane and c is some constant.\n"
   ]
  },
  {
   "cell_type": "markdown",
   "id": "82fa77de-f3d9-471f-98cd-581e1f13b01c",
   "metadata": {},
   "source": [
    "For arbitrary points $x_1$ and $x_2$ where $x_1, x_2 \\in S$ "
   ]
  },
  {
   "cell_type": "markdown",
   "id": "22e147b4-5ec0-4e8c-8730-7949e944c567",
   "metadata": {},
   "source": [
    "\\begin{gather}\n",
    "a^Tx_1 = c \\\\\n",
    "a^Tx_2 = c\n",
    "\\end{gather}"
   ]
  },
  {
   "cell_type": "markdown",
   "id": "254fbae4-cbe4-4e9e-9f23-f24e171ebc78",
   "metadata": {},
   "source": [
    "The space is convex if $\\lambda x_1+(1-\\lambda)x_2 \\in S$"
   ]
  },
  {
   "cell_type": "markdown",
   "id": "29077b55-4217-47a2-a4f9-46b952d61e6c",
   "metadata": {},
   "source": [
    "Linear transformation by $a$ gives:"
   ]
  },
  {
   "cell_type": "markdown",
   "id": "efd653a6-d517-4dce-b585-5f1ea55830db",
   "metadata": {},
   "source": [
    "\\begin{gather}\n",
    "a^T(\\lambda x_1+(1-\\lambda)x_2) = \\lambda a^Tx_1+(1-\\lambda)a^Tx_2 = \\lambda c+(1-\n",
    "\\lambda)c = c\n",
    "\\end{gather}"
   ]
  },
  {
   "cell_type": "markdown",
   "id": "ada5716b-4fac-47f6-a066-84e9b435e839",
   "metadata": {},
   "source": [
    "The hyperplane is convex."
   ]
  },
  {
   "cell_type": "code",
   "execution_count": null,
   "id": "6be1d5c4-98ab-4f4a-8e3b-0f8694d4c9a7",
   "metadata": {},
   "outputs": [],
   "source": []
  }
 ],
 "metadata": {
  "kernelspec": {
   "display_name": "Python 3 (ipykernel)",
   "language": "python",
   "name": "python3"
  },
  "language_info": {
   "codemirror_mode": {
    "name": "ipython",
    "version": 3
   },
   "file_extension": ".py",
   "mimetype": "text/x-python",
   "name": "python",
   "nbconvert_exporter": "python",
   "pygments_lexer": "ipython3",
   "version": "3.10.4"
  }
 },
 "nbformat": 4,
 "nbformat_minor": 5
}
