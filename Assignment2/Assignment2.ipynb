{
 "cells": [
  {
   "cell_type": "markdown",
   "id": "765c7e18-0e48-42e4-9561-f798fc28c331",
   "metadata": {},
   "source": [
    "# Problem 1"
   ]
  },
  {
   "cell_type": "markdown",
   "id": "c84fa338-7f8a-4bdc-a854-a4ee3b295e96",
   "metadata": {},
   "source": [
    "$f(x_1, x_2) = 2x_1^2 - 4x_1x_2+1.5x_2^2+x_2$"
   ]
  },
  {
   "cell_type": "markdown",
   "id": "3dabe601-3b97-4f7c-b42a-afef95960c93",
   "metadata": {},
   "source": [
    "Show that the stationary point (zero gradient) of the function is a saddle (with indefinite Hessian)."
   ]
  },
  {
   "cell_type": "markdown",
   "id": "bc167418-363b-49b3-91a6-144ffc32bcf1",
   "metadata": {},
   "source": [
    "\\begin{gather}\n",
    "\\nabla f(x)  =  \n",
    "\\begin{bmatrix}\n",
    "4x_1-4x_2 \\\\\n",
    "-4x_1+3x_2+1 \n",
    "\\end{bmatrix}\n",
    "\\end{gather}"
   ]
  },
  {
   "cell_type": "markdown",
   "id": "f2f9f94c-d3d5-4ec7-ba46-dba30f2808f0",
   "metadata": {},
   "source": [
    "The gradient is 0 at $x_1 = 1$, $x_2 = 1$."
   ]
  },
  {
   "cell_type": "markdown",
   "id": "866bb417-312b-4558-a37c-85268ffe6348",
   "metadata": {},
   "source": [
    "\\begin{gather}\n",
    " H  =  \n",
    "\\begin{bmatrix}\n",
    "4 & -4 \\\\\n",
    "-4 & 3\\end{bmatrix}\n",
    "\\end{gather}"
   ]
  },
  {
   "cell_type": "code",
   "execution_count": null,
   "id": "df2885a6-e0ba-4609-93a6-e99045a198c2",
   "metadata": {},
   "outputs": [],
   "source": []
  }
 ],
 "metadata": {
  "kernelspec": {
   "display_name": "Python 3 (ipykernel)",
   "language": "python",
   "name": "python3"
  },
  "language_info": {
   "codemirror_mode": {
    "name": "ipython",
    "version": 3
   },
   "file_extension": ".py",
   "mimetype": "text/x-python",
   "name": "python",
   "nbconvert_exporter": "python",
   "pygments_lexer": "ipython3",
   "version": "3.10.4"
  }
 },
 "nbformat": 4,
 "nbformat_minor": 5
}
