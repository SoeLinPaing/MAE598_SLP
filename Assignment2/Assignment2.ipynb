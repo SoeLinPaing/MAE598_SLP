{
 "cells": [
  {
   "cell_type": "markdown",
   "id": "765c7e18-0e48-42e4-9561-f798fc28c331",
   "metadata": {},
   "source": [
    "# Problem 1"
   ]
  },
  {
   "cell_type": "markdown",
   "id": "c84fa338-7f8a-4bdc-a854-a4ee3b295e96",
   "metadata": {},
   "source": [
    "$f(x_1, x_2) = 2x_1^2 - 4x_1x_2+1.5x_2^2+x_2$"
   ]
  },
  {
   "cell_type": "markdown",
   "id": "3dabe601-3b97-4f7c-b42a-afef95960c93",
   "metadata": {},
   "source": [
    "Show that the stationary point (zero gradient) of the function is a saddle (with indefinite Hessian)."
   ]
  },
  {
   "cell_type": "markdown",
   "id": "bc167418-363b-49b3-91a6-144ffc32bcf1",
   "metadata": {},
   "source": [
    "\\begin{gather}\n",
    "\\nabla f(x)  =  \n",
    "\\begin{bmatrix}\n",
    "4x_1-4x_2 \\\\\n",
    "-4x_1+3x_2+1 \n",
    "\\end{bmatrix}\n",
    "\\end{gather}"
   ]
  },
  {
   "cell_type": "markdown",
   "id": "f2f9f94c-d3d5-4ec7-ba46-dba30f2808f0",
   "metadata": {},
   "source": [
    "The gradient is 0 at $x_1 = 1$, $x_2 = 1$."
   ]
  },
  {
   "cell_type": "markdown",
   "id": "866bb417-312b-4558-a37c-85268ffe6348",
   "metadata": {},
   "source": [
    "\\begin{gather}\n",
    " H  =  \n",
    "\\begin{bmatrix}\n",
    "4 & -4 \\\\\n",
    "-4 & 3\\end{bmatrix}\n",
    "\\end{gather}"
   ]
  },
  {
   "cell_type": "markdown",
   "id": "884a6529-b8c8-4e3f-b4a7-66487a7ed9d3",
   "metadata": {},
   "source": [
    "Eigen values for Hessian are −0.53 and 7.53. Hessian is indefinite and we have a saddle point."
   ]
  },
  {
   "cell_type": "markdown",
   "id": "1e610e90-fcfc-4636-8d50-c550ffa57400",
   "metadata": {},
   "source": [
    "Find the directions of downslopes away from the saddle."
   ]
  },
  {
   "cell_type": "markdown",
   "id": "a1d9d6f0-17f2-4930-ae41-8425836a80a2",
   "metadata": {},
   "source": [
    "Taylor expansion around saddle point can be written as\n",
    "\\begin{gather}\n",
    "\\begin{split}\n",
    "f(x_1, x_2) &\\approx f(1,1) + \\left. \\nabla_x f\\right|_{x_0}^T(x-x_0) + \\frac{1}{2} (x-x_0)^T \\left. H_f\\right|_{x_0}(x-x_0)   \n",
    "\\end{split}\n",
    "\\end{gather}"
   ]
  },
  {
   "cell_type": "markdown",
   "id": "93650e00-a5b6-428e-8344-a00eaeed6cba",
   "metadata": {},
   "source": [
    "Since"
   ]
  },
  {
   "cell_type": "markdown",
   "id": "5855cde1-037a-4660-95d0-64ce9628e0b7",
   "metadata": {},
   "source": [
    "$f(1,1) = \\frac{1}{2}, \\left. \\nabla_x f\\right|_{x_0} = 0 \\text{    and    } H = \\begin{bmatrix}\n",
    "4 & -4 \\\\\n",
    "-4 & 3\\end{bmatrix}$"
   ]
  },
  {
   "cell_type": "markdown",
   "id": "55c084a4-cd02-46c8-810e-e223be3e3ad4",
   "metadata": {},
   "source": [
    "\\begin{gather}\n",
    "\\begin{split}\n",
    "f(x_1, x_2) &\\approx \\frac{1}{2} + \\frac{1}{2} [x_1-1 \\quad x_2-1] \\begin{bmatrix}\n",
    "4 & -4 \\\\\n",
    "-4 & 3\\end{bmatrix}\n",
    "\\begin{bmatrix}\n",
    "x_1-1  \\\\\n",
    "x_2-1 \\end{bmatrix} \\\\\n",
    "f(x_1, x_2) - \\frac{1}{2} &\\approx 2(x_1-1)^2 - 4(x_1-1)(x_2-1)+\\frac{3}{2}(x_2-1)^2\n",
    "\\end{split} \n",
    "\\end{gather}"
   ]
  },
  {
   "cell_type": "markdown",
   "id": "9fde26de-7a8e-495d-91b4-ac1406809f5b",
   "metadata": {},
   "source": [
    "This can be rewritten in the form of $[a(x_1-1)-b(x_2-1)][c(x_1-1)-d(x_2-1)]$.<br>\n",
    "And the roots are $a = 3$, $b = \\frac{3}{2}$, $c = \\frac{2}{3}$ and $d = 1$\n"
   ]
  },
  {
   "cell_type": "markdown",
   "id": "69b75321-abed-492c-b523-1bf9a9d6443d",
   "metadata": {},
   "source": [
    "Then, \n",
    "\\begin{gather}\n",
    "f(x_1, x_2) - \\frac{1}{2} &\\approx [3(x_1-1)-\\frac{3}{2}(x_2-1)][\\frac{2}{3}(x_1-1)-(x_2-1)]\n",
    "\\end{gather}"
   ]
  },
  {
   "cell_type": "markdown",
   "id": "84faaf44-d527-4532-909f-3856e23cf6c7",
   "metadata": {},
   "source": [
    "For $f(x_1, x_2) - \\frac{1}{2} < 0 $, $[3(x_1-1)-\\frac{3}{2}(x_2-1)][\\frac{2}{3}(x_1-1)-(x_2-1)] < 0$"
   ]
  },
  {
   "cell_type": "markdown",
   "id": "3b415713-482e-487b-a231-3fc912c8fdc3",
   "metadata": {},
   "source": [
    "\\begin{gather}\n",
    "[3(x_1-1)-\\frac{3}{2}(x_2-1)] < 0 \\quad\\text{or} \\quad [\\frac{2}{3}(x_1-1)-(x_2-1)]<0\n",
    "\\end{gather}"
   ]
  },
  {
   "cell_type": "markdown",
   "id": "e13e5759-c330-4c53-b27f-7916191c7635",
   "metadata": {},
   "source": [
    "\\begin{gather}\n",
    "3\\partial x_1-\\frac{3}{2}\\partial x_2 <0 \\quad \\text{or} \\quad \\frac{2}{3}\\partial x_1-\\partial x_2 <0 \\\\\n",
    "\\end{gather}"
   ]
  },
  {
   "cell_type": "markdown",
   "id": "a7d60732-a695-430e-b0ba-3bed6ca42da3",
   "metadata": {},
   "source": [
    "The direction of downslopes away from saddle is"
   ]
  },
  {
   "cell_type": "markdown",
   "id": "16bf2e23-8965-4bb8-a954-2fd2de960a27",
   "metadata": {},
   "source": [
    "\\begin{gather}\n",
    "2\\partial x_1 <\\partial x_2 \\quad \\text{or} \\quad 2\\partial x_1 <3\\partial x_2 \\\\\n",
    "\\end{gather}"
   ]
  },
  {
   "cell_type": "markdown",
   "id": "d28c76fe-357c-4565-a4e2-3a38c94dbd12",
   "metadata": {},
   "source": [
    " <br /><br />  <hr /> <br /> <br />"
   ]
  },
  {
   "cell_type": "markdown",
   "id": "7bce9ab4-4c10-4e28-bcd3-f2892b8936c0",
   "metadata": {},
   "source": [
    "# Problem 2"
   ]
  }
 ],
 "metadata": {
  "kernelspec": {
   "display_name": "Python 3 (ipykernel)",
   "language": "python",
   "name": "python3"
  },
  "language_info": {
   "codemirror_mode": {
    "name": "ipython",
    "version": 3
   },
   "file_extension": ".py",
   "mimetype": "text/x-python",
   "name": "python",
   "nbconvert_exporter": "python",
   "pygments_lexer": "ipython3",
   "version": "3.10.4"
  }
 },
 "nbformat": 4,
 "nbformat_minor": 5
}
