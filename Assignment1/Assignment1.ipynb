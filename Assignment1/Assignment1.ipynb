{
 "cells": [
  {
   "cell_type": "markdown",
   "id": "e185c42d-af61-40d9-beee-1cb08e3c5b2b",
   "metadata": {},
   "source": [
    "# Problem 1"
   ]
  },
  {
   "cell_type": "code",
   "execution_count": 39,
   "id": "016a0971-cd19-4010-a8b4-620c73f32a02",
   "metadata": {},
   "outputs": [],
   "source": [
    "import scipy as sp\n",
    "import matplotlib.pyplot as plt\n",
    "import numpy as np"
   ]
  },
  {
   "cell_type": "code",
   "execution_count": 40,
   "id": "15f0ab12-b1db-4776-a6a7-da1c9e613f66",
   "metadata": {},
   "outputs": [],
   "source": [
    "from scipy.optimize import minimize"
   ]
  },
  {
   "cell_type": "markdown",
   "id": "4596aa55-28b8-40d7-b1d6-dd2e1317af95",
   "metadata": {},
   "source": [
    "minimize $(x_1 −x_2)^2 + (x_2 + x_3 −2)^2 + (x_4 −1)^2 + (x_5 −1)^2$"
   ]
  },
  {
   "cell_type": "code",
   "execution_count": 41,
   "id": "560b13d1-599b-42b0-8a65-73af8786d5d4",
   "metadata": {},
   "outputs": [],
   "source": [
    "f = lambda x: (x[0]-x[1])**2+(x[1]+x[2]-2)**2+(x[3]-1)**2+(x[4]-1)**2 "
   ]
  },
  {
   "cell_type": "markdown",
   "id": "14daf9ae-a985-4cfb-b235-a9cf1f62801f",
   "metadata": {
    "tags": []
   },
   "source": [
    "Constraints: \n",
    "\\begin{align*}\n",
    "x_1 + 3x_2 = 0 \\\\\n",
    "x_3 + x_4 −2x_5 = 0 \\\\\n",
    "x_2 −x_5 = 0 \n",
    "\\end{align*}"
   ]
  },
  {
   "cell_type": "code",
   "execution_count": 42,
   "id": "90a51807-1ad9-461d-af73-05cf4d549298",
   "metadata": {},
   "outputs": [],
   "source": [
    "con = ({'type':'eq','fun': lambda x: x[0]+3*x[1]},\n",
    "              {'type':'eq','fun': lambda x: x[2]+x[3]-2*x[4]},\n",
    "              {'type':'eq','fun': lambda x: x[1]-x[4]},\n",
    "              )"
   ]
  },
  {
   "cell_type": "markdown",
   "id": "29c419d3-a5d9-433d-8274-cc61f4aaa315",
   "metadata": {},
   "source": [
    "bounds: $$-10 \\leq x_i\\leq10, i = 1, . . . , 5$$"
   ]
  },
  {
   "cell_type": "code",
   "execution_count": 43,
   "id": "9ed7e84f-fd11-4e7e-ac5d-eb6012f80df3",
   "metadata": {},
   "outputs": [],
   "source": [
    "bnds = ((-10,10),(-10,10),(-10,10),(-10,10),(-10,10))"
   ]
  },
  {
   "cell_type": "markdown",
   "id": "538dbe3d-50df-494d-a695-beb91191ecc4",
   "metadata": {},
   "source": [
    "If the initial guess for $x_1, x_2, x_3, x_4$ and $x_5$ are all set to 0"
   ]
  },
  {
   "cell_type": "code",
   "execution_count": 44,
   "id": "db1444ba-5b10-4bad-9a91-69065272f7d9",
   "metadata": {},
   "outputs": [],
   "source": [
    "res = minimize(f, (0,0,0,0,0), bounds = bnds, constraints = con)"
   ]
  },
  {
   "cell_type": "code",
   "execution_count": 45,
   "id": "2ef9d53e-b6a5-4433-b3d7-2a6bec7ce82d",
   "metadata": {},
   "outputs": [
    {
     "data": {
      "text/plain": [
       "array([-0.76744186,  0.25581395,  0.62790698, -0.11627907,  0.25581395])"
      ]
     },
     "execution_count": 45,
     "metadata": {},
     "output_type": "execute_result"
    }
   ],
   "source": [
    "res.x"
   ]
  },
  {
   "cell_type": "markdown",
   "id": "b6340d4f-865c-4a53-b6a0-26bad5087d29",
   "metadata": {},
   "source": [
    "If the initial guess is changed to arbitrary values such as $x_1 = 5, x_2 = -8, x_3 = 4, x_4 = -1$ and $x_5 = 9$"
   ]
  },
  {
   "cell_type": "code",
   "execution_count": 46,
   "id": "7d200358-ab62-43f8-9a62-a7e272e25194",
   "metadata": {},
   "outputs": [],
   "source": [
    "res = minimize(f, (5,-8,4,-1,9), bounds = bnds, constraints = con)"
   ]
  },
  {
   "cell_type": "code",
   "execution_count": 47,
   "id": "346d4b9f-5674-435d-b732-f8e98cf5a039",
   "metadata": {},
   "outputs": [
    {
     "data": {
      "text/plain": [
       "array([-0.76744167,  0.25581389,  0.62790732, -0.11627954,  0.25581389])"
      ]
     },
     "execution_count": 47,
     "metadata": {},
     "output_type": "execute_result"
    }
   ],
   "source": [
    "res.x"
   ]
  },
  {
   "cell_type": "markdown",
   "id": "fc1863ef-8477-4012-bdab-89387fa5954c",
   "metadata": {},
   "source": [
    "The solution is pretty much the same up to the 5 decimal points."
   ]
  },
  {
   "cell_type": "markdown",
   "id": "123ddd1c-1519-4ffe-9f4c-bfde54cc2d09",
   "metadata": {},
   "source": [
    " <br /><br />  <hr /> <br /> <br />\n"
   ]
  },
  {
   "cell_type": "markdown",
   "id": "aa54f648-c503-48bc-a1ca-861135282dcf",
   "metadata": {
    "tags": []
   },
   "source": [
    "# Problem 2"
   ]
  },
  {
   "cell_type": "markdown",
   "id": "575cb60a-8592-458c-9df2-d4818f2fe0b3",
   "metadata": {},
   "source": [
    "#### (a)"
   ]
  },
  {
   "cell_type": "markdown",
   "id": "067a6765-f2a6-49d0-bb00-fd0a12c15134",
   "metadata": {},
   "source": [
    "\\begin{gather}\n",
    "f(x) = b^Tx+x^TAx ,\\\\\n",
    "f:\\mathbb{R}^n\\rightarrow\\mathbb{R},\\quad x, b \\in \\mathbb{R}^n,\\quad A \\in \\mathbb{R}^{n \\times n}\n",
    "\\end{gather}"
   ]
  },
  {
   "cell_type": "markdown",
   "id": "5d6671d0-e16a-4d4a-9df9-a11d6b08140c",
   "metadata": {},
   "source": [
    "Gradient: $\\nabla f(x) = ?$"
   ]
  },
  {
   "cell_type": "markdown",
   "id": "59df9695-e6a8-446f-bba6-ac87fe9da20c",
   "metadata": {},
   "source": [
    "\\begin{gather}\n",
    "\\begin{split}\n",
    "\\nabla f(x) & = \\left(\\frac{df}{dx}\\right)^T = \\left(\\frac{d(b^Tx+x^TAx)}{dx}\\right)^T \\\\\n",
    "      & = \\left(\\frac{d(b^Tx)}{dx}+\\frac{d(x^TAx)}{dx}\\right)^T\n",
    "\\end{split}\n",
    "\\end{gather}"
   ]
  },
  {
   "cell_type": "markdown",
   "id": "75c4487e-8c55-4457-a418-0e6cbbae5b5d",
   "metadata": {},
   "source": [
    "For $\\frac{d(b^Tx)}{dx}$,"
   ]
  },
  {
   "cell_type": "markdown",
   "id": "45bfeb81-2ca0-4cee-9a78-88fb47293bfa",
   "metadata": {},
   "source": [
    "\\begin{gather}\n",
    "\\frac{d(b^Tx)}{dx} = \\frac{d(x^Tb)}{dx} = b^T\n",
    "\\end{gather}"
   ]
  },
  {
   "cell_type": "markdown",
   "id": "336f2831-85ed-40c6-b4dd-d2ad9a0f5b7e",
   "metadata": {},
   "source": [
    "Chain rule: \n",
    "\\begin{gather}\n",
    "\\frac{d(f(g(x),h(x)))}{dx} = \\frac{\\partial(f(g(x), h(x)))}{\\partial h(x)} \\frac{\\partial(h(x))}{\\partial x} + \\frac{\\partial(f(g(x),h(x)))}{\\partial g(x)} \\frac{\\partial (g(x))}{\\partial x}\n",
    "\\end{gather}"
   ]
  },
  {
   "cell_type": "markdown",
   "id": "3e1f2008-1f08-4c4e-9bba-0a1a0e33957b",
   "metadata": {},
   "source": [
    "Let  $g(x) = x$ and $h(x) = Ax$, then $f(g(x), h(x)) = g(x)^Th(x) =x^TAx$"
   ]
  },
  {
   "cell_type": "markdown",
   "id": "74eca197-e570-4e27-b9c9-1764b918766a",
   "metadata": {},
   "source": [
    "\\begin{split}\n",
    "\\frac{d(x^TAx)}{dx} &= x^T \\frac{\\partial(Ax)}{\\partial x} + (Ax)^T \\frac{\\partial x}{\\partial x} \\\\\n",
    "&= x^TA + x^TA^T  \\\\\n",
    "&= x^T(A+A^T) \\\\\n",
    "\\end{split}"
   ]
  },
  {
   "cell_type": "markdown",
   "id": "0577a076-4351-487a-bb1a-bf7802c04c47",
   "metadata": {},
   "source": [
    "Gradient: \n",
    "\\begin{align}\n",
    "\\nabla f(x) = \\left(\\frac{d(b^Tx)}{dx}+\\frac{d(x^TAx)}{dx}\\right)^T = b + (A+A^T)x\n",
    "\\end{align}"
   ]
  },
  {
   "cell_type": "markdown",
   "id": "fbf1e38d-183e-4465-935f-3c6602d68d15",
   "metadata": {},
   "source": [
    "Hessian: \n",
    "    \\begin{align}\n",
    "    H_f = (A+A^T)\n",
    "    \\end{align}"
   ]
  },
  {
   "cell_type": "markdown",
   "id": "8c2ba2df-4b2d-459b-9d0c-c19f3fcdb61a",
   "metadata": {},
   "source": [
    "#### (b)"
   ]
  },
  {
   "cell_type": "markdown",
   "id": "1c946812-488c-4d89-9cb5-ecdffc4675cd",
   "metadata": {},
   "source": [
    "Taylor Approximation (first order): \n",
    "\\begin{split}\n",
    "f(x) &\\approx f(x_0) + \\left. \\nabla_x f\\right|_{x_0}^T(x-x_0) \\\\\n",
    "&\\approx  f(x_0)+(b + (A+A^T)x_0)^T(x-x_0) \\\\\n",
    "&\\approx  f(x_0)+(b^T+ x_0^T(A+A^T))(x-x_0) \n",
    "\\end{split}\n"
   ]
  },
  {
   "cell_type": "markdown",
   "id": "eaee344c-32bf-4c34-b35d-669c225307b5",
   "metadata": {},
   "source": [
    "As $x_0 = 0$,"
   ]
  },
  {
   "cell_type": "markdown",
   "id": "8834bd54-9f0e-4a6c-9efc-fa0957546a79",
   "metadata": {},
   "source": [
    "\\begin{align}\n",
    "f(x) \\approx b^Tx\n",
    "\\end{align}"
   ]
  },
  {
   "cell_type": "markdown",
   "id": "fe4c6715-33e8-4f3b-87ed-c103ed34f583",
   "metadata": {},
   "source": [
    "The first order approximation is not exact."
   ]
  },
  {
   "cell_type": "markdown",
   "id": "367a68ed-3ca6-47cd-8a13-f106a0ae115a",
   "metadata": {},
   "source": [
    "Taylor Approximation (second order): \n",
    "\\begin{align}\n",
    "f(x) \\approx f(x_0) + \\left. \\nabla_x f\\right|_{x_0}^T(x-x_0) + \\frac{1}{2} (x-x_0)^T \\left. H_f\\right|_{x_0}(x-x_0)\n",
    "\\end{align}"
   ]
  },
  {
   "cell_type": "markdown",
   "id": "5297f130-5cd8-4417-b8a3-0593f940d0ac",
   "metadata": {},
   "source": [
    "\\begin{split}\n",
    "f(x) &\\approx  f(x_0)+(b + (A+A^T)x_0)^T(x-x_0) + \\frac{1}{2} (x-x_0)^T(A+A^T)(x-x_0) \\\\\n",
    "&\\approx  f(x_0)+(b^T+ x_0^T(A+A^T))(x-x_0) + \\frac{1}{2} (x-x_0)^T(A+A^T)(x-x_0)\n",
    "\\end{split}"
   ]
  },
  {
   "cell_type": "markdown",
   "id": "b34bd73d-9ba6-49e6-b633-62b8513e8af1",
   "metadata": {},
   "source": [
    "As $x_0 = 0$,"
   ]
  },
  {
   "cell_type": "markdown",
   "id": "eed9e89c-3414-4879-8ff2-acecf8e7f04e",
   "metadata": {},
   "source": [
    "\\begin{split}\n",
    "f(x) &\\approx  b^Tx +  \\frac{1}{2} x^T(A+A^T)x\n",
    "\\end{split}"
   ]
  },
  {
   "cell_type": "markdown",
   "id": "3bd8d1bd-2ad6-4468-8a04-878f6842dcdb",
   "metadata": {},
   "source": [
    "The second order approximation is exact because the original function is quadratic."
   ]
  },
  {
   "cell_type": "markdown",
   "id": "03a08f0f-f681-40d7-a7f8-f3048888b6b3",
   "metadata": {},
   "source": [
    "#### (c)"
   ]
  },
  {
   "cell_type": "markdown",
   "id": "f4b71d94-c5c7-4a98-87e3-0c69ff5b7327",
   "metadata": {},
   "source": [
    "Necessary and sufficient conditions for A to be positive definite is:\n",
    "- All eigen values are positive"
   ]
  },
  {
   "cell_type": "markdown",
   "id": "3af9ce47-61ef-4cef-acd3-f6c09a69e6c6",
   "metadata": {},
   "source": [
    "#### (d)"
   ]
  },
  {
   "cell_type": "markdown",
   "id": "005ec2c9-c4fd-4dd0-b333-f5b4e9108800",
   "metadata": {},
   "source": [
    "Necessary and sufficient condition for A to be full rank are:\n",
    "- det(A) $\\neq 0$"
   ]
  },
  {
   "cell_type": "markdown",
   "id": "b458d560-adde-487e-9504-c4e040806266",
   "metadata": {},
   "source": [
    "#### (e)"
   ]
  },
  {
   "cell_type": "markdown",
   "id": "a85cb6c6-c483-4dc9-a942-3c3b151a313b",
   "metadata": {},
   "source": [
    "If there exists $y \\in \\mathbb{R}^n$ and $y \\neq 0$ such that $A^Ty = 0$, then $Ax = b$ has a solution for $x$ if $y^Tb = 0$"
   ]
  },
  {
   "cell_type": "markdown",
   "id": "23fa7a22-d346-46f6-ae24-d7118f89ad43",
   "metadata": {},
   "source": [
    " <br /><br />  <hr /> <br /> <br />"
   ]
  },
  {
   "cell_type": "markdown",
   "id": "ec77e98e-4cc1-4ce7-8bb3-e93ce5dd4c46",
   "metadata": {},
   "source": [
    "# Problem 3"
   ]
  },
  {
   "cell_type": "markdown",
   "id": "2c2fcae6-f423-4a47-8878-a00c0a63ed6f",
   "metadata": {},
   "source": [
    "There are N types of food and each food contains M types of nutrition."
   ]
  },
  {
   "cell_type": "markdown",
   "id": "4889fc72-1d3b-4325-87b7-dab6313cbb12",
   "metadata": {},
   "source": [
    "$a_{ij}$ represents quantity of nutrition type $j$ of food type $i$"
   ]
  },
  {
   "cell_type": "markdown",
   "id": "6239f8cc-585e-4a3d-b1bd-399acbd67854",
   "metadata": {},
   "source": [
    "$b_j$ represents necessary quality of nutrition type $j$"
   ]
  },
  {
   "cell_type": "markdown",
   "id": "dc299693-b8e3-472f-828a-6248fc2dec5f",
   "metadata": {},
   "source": [
    "$c_j$ represents unit price of food type $i$"
   ]
  },
  {
   "cell_type": "markdown",
   "id": "12e741aa-ba1b-48af-b4a7-243a13c10bc6",
   "metadata": {},
   "source": [
    "Let $d_{ij}$ denotes quantity of food type $i$ of nutrition type $j$"
   ]
  },
  {
   "cell_type": "markdown",
   "id": "c24f443e-c8ab-490b-80eb-c9f97c936d24",
   "metadata": {},
   "source": [
    "Total cost is formulated as:\n",
    "\\begin{align}\n",
    "\\text{total cost} = \\sum_{i=1}^{N} \\sum_{j=1}^{M} c_id_{ij}\n",
    "\\end{align}"
   ]
  },
  {
   "cell_type": "markdown",
   "id": "72d7d4eb-e761-4e83-a76f-235516228a35",
   "metadata": {},
   "source": [
    "To get the minimum cost to satisfy nutrition need:"
   ]
  },
  {
   "cell_type": "markdown",
   "id": "b9d110af-8a63-4e39-9c32-b220ae590c76",
   "metadata": {},
   "source": [
    "\\begin{split}\n",
    "\\underset{d}{\\text{minimize}}& \\space \\sum_{i=1}^{N} \\sum_{j=1}^{M} c_id_{ij} \\\\\n",
    "\\text{constraints:}& \\sum_{i=1}^{N} \\sum_{j=1}^{M} a_{ij} d_{ij} \\geq \\sum_{j=1}^{M} b_j \\\\\n",
    "\\text{bounds:}& d_{ij} \\geq 0\n",
    "\\end{split}"
   ]
  }
 ],
 "metadata": {
  "kernelspec": {
   "display_name": "Python 3 (ipykernel)",
   "language": "python",
   "name": "python3"
  },
  "language_info": {
   "codemirror_mode": {
    "name": "ipython",
    "version": 3
   },
   "file_extension": ".py",
   "mimetype": "text/x-python",
   "name": "python",
   "nbconvert_exporter": "python",
   "pygments_lexer": "ipython3",
   "version": "3.10.4"
  }
 },
 "nbformat": 4,
 "nbformat_minor": 5
}
