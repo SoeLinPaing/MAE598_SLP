{
 "cells": [
  {
   "cell_type": "markdown",
   "id": "e185c42d-af61-40d9-beee-1cb08e3c5b2b",
   "metadata": {},
   "source": [
    "### Problem 1"
   ]
  },
  {
   "cell_type": "code",
   "execution_count": 1,
   "id": "016a0971-cd19-4010-a8b4-620c73f32a02",
   "metadata": {},
   "outputs": [],
   "source": [
    "import scipy as sp\n",
    "import matplotlib.pyplot as plt\n",
    "import numpy as np"
   ]
  },
  {
   "cell_type": "code",
   "execution_count": 2,
   "id": "15f0ab12-b1db-4776-a6a7-da1c9e613f66",
   "metadata": {},
   "outputs": [],
   "source": [
    "from scipy.optimize import minimize"
   ]
  },
  {
   "cell_type": "markdown",
   "id": "4596aa55-28b8-40d7-b1d6-dd2e1317af95",
   "metadata": {},
   "source": [
    "minimize $(x_1 −x_2)^2 + (x_2 + x_3 −2)^2 + (x_4 −1)^2 + (x_5 −1)^2$"
   ]
  },
  {
   "cell_type": "code",
   "execution_count": 16,
   "id": "560b13d1-599b-42b0-8a65-73af8786d5d4",
   "metadata": {},
   "outputs": [],
   "source": [
    "f = lambda x: (x[0]-x[1])**2+(x[1]+x[2]-2)**2+(x[3]-1)**2+(x[4]-1)**2 "
   ]
  },
  {
   "cell_type": "markdown",
   "id": "14daf9ae-a985-4cfb-b235-a9cf1f62801f",
   "metadata": {},
   "source": [
    "Constraints: $$ x_1 + 3x_2 = 0 \\\\\n",
    "x_3 + x_4 −2x_5 = 0 \\\\\n",
    "x_2 −x_5 = 0 \n",
    "$$"
   ]
  },
  {
   "cell_type": "code",
   "execution_count": 13,
   "id": "90a51807-1ad9-461d-af73-05cf4d549298",
   "metadata": {},
   "outputs": [],
   "source": [
    "con = ({'type':'eq','fun': lambda x: x[0]+3*x[1]},\n",
    "              {'type':'eq','fun': lambda x: x[2]+x[3]-2*x[4]},\n",
    "              {'type':'eq','fun': lambda x: x[1]-x[4]},\n",
    "              )"
   ]
  },
  {
   "cell_type": "markdown",
   "id": "29c419d3-a5d9-433d-8274-cc61f4aaa315",
   "metadata": {},
   "source": [
    "bounds: $$-10 \\leq x_i\\leq10, i = 1, . . . , 5$$"
   ]
  },
  {
   "cell_type": "code",
   "execution_count": 11,
   "id": "9ed7e84f-fd11-4e7e-ac5d-eb6012f80df3",
   "metadata": {},
   "outputs": [],
   "source": [
    "bnds = ((-10,10),(-10,10),(-10,10),(-10,10),(-10,10))"
   ]
  },
  {
   "cell_type": "markdown",
   "id": "538dbe3d-50df-494d-a695-beb91191ecc4",
   "metadata": {},
   "source": [
    "If the initial guess for $x_1, x_2, x_3, x_4$ and $x_5$ are all set to 0"
   ]
  },
  {
   "cell_type": "code",
   "execution_count": 23,
   "id": "db1444ba-5b10-4bad-9a91-69065272f7d9",
   "metadata": {},
   "outputs": [],
   "source": [
    "res = minimize(f, (0,0,0,0,0), bounds = bnds, constraints = con)"
   ]
  },
  {
   "cell_type": "code",
   "execution_count": 26,
   "id": "2ef9d53e-b6a5-4433-b3d7-2a6bec7ce82d",
   "metadata": {},
   "outputs": [
    {
     "data": {
      "text/plain": [
       "array([-0.76744186,  0.25581395,  0.62790698, -0.11627907,  0.25581395])"
      ]
     },
     "execution_count": 26,
     "metadata": {},
     "output_type": "execute_result"
    }
   ],
   "source": [
    "res.x"
   ]
  },
  {
   "cell_type": "markdown",
   "id": "b6340d4f-865c-4a53-b6a0-26bad5087d29",
   "metadata": {},
   "source": [
    "If the initial guess is changed to arbitrary values such as $x_1 = 5, x_2 = -8, x_3 = 4, x_4 = -1$ and $x_5 = 9$"
   ]
  },
  {
   "cell_type": "code",
   "execution_count": 29,
   "id": "7d200358-ab62-43f8-9a62-a7e272e25194",
   "metadata": {},
   "outputs": [],
   "source": [
    "res = minimize(f, (5,-8,4,-1,9), bounds = bnds, constraints = con)"
   ]
  },
  {
   "cell_type": "code",
   "execution_count": 30,
   "id": "346d4b9f-5674-435d-b732-f8e98cf5a039",
   "metadata": {},
   "outputs": [
    {
     "data": {
      "text/plain": [
       "array([-0.76744167,  0.25581389,  0.62790732, -0.11627954,  0.25581389])"
      ]
     },
     "execution_count": 30,
     "metadata": {},
     "output_type": "execute_result"
    }
   ],
   "source": [
    "res.x"
   ]
  },
  {
   "cell_type": "markdown",
   "id": "fc1863ef-8477-4012-bdab-89387fa5954c",
   "metadata": {},
   "source": [
    "The solution is the same."
   ]
  },
  {
   "cell_type": "markdown",
   "id": "aa54f648-c503-48bc-a1ca-861135282dcf",
   "metadata": {
    "tags": []
   },
   "source": [
    "<br />\n",
    "<br />\n",
    "\n",
    "\n",
    "\n",
    "### Problem 2"
   ]
  },
  {
   "cell_type": "markdown",
   "id": "067a6765-f2a6-49d0-bb00-fd0a12c15134",
   "metadata": {},
   "source": [
    "$$f(x) = b^Tx+x^TAx ,\\\\\n",
    "f:\\mathbb{R}^n\\rightarrow\\mathbb{R},\\quad x, b \\in \\mathbb{R}^n,\\quad A \\in \\mathbb{R}^{n \\times n} $$"
   ]
  },
  {
   "cell_type": "code",
   "execution_count": null,
   "id": "a5478ad4-87d3-49f8-b7fc-e951fccca493",
   "metadata": {},
   "outputs": [],
   "source": []
  }
 ],
 "metadata": {
  "kernelspec": {
   "display_name": "Python 3 (ipykernel)",
   "language": "python",
   "name": "python3"
  },
  "language_info": {
   "codemirror_mode": {
    "name": "ipython",
    "version": 3
   },
   "file_extension": ".py",
   "mimetype": "text/x-python",
   "name": "python",
   "nbconvert_exporter": "python",
   "pygments_lexer": "ipython3",
   "version": "3.10.4"
  }
 },
 "nbformat": 4,
 "nbformat_minor": 5
}
