{
 "cells": [
  {
   "cell_type": "markdown",
   "id": "e185c42d-af61-40d9-beee-1cb08e3c5b2b",
   "metadata": {},
   "source": [
    "# Problem 1"
   ]
  },
  {
   "cell_type": "markdown",
   "id": "669ed856-e305-4f24-a840-63aaf1e0c018",
   "metadata": {},
   "source": [
    "$$ \n",
    "x = \\frac{-b \\pm \\sqrt{b^{2}-4ac}}{2a} \n",
    "$$"
   ]
  },
  {
   "cell_type": "code",
   "execution_count": null,
   "id": "d552a0c2-6fec-4608-b0d9-a7eab4599f0f",
   "metadata": {},
   "outputs": [],
   "source": []
  }
 ],
 "metadata": {
  "kernelspec": {
   "display_name": "Python 3 (ipykernel)",
   "language": "python",
   "name": "python3"
  },
  "language_info": {
   "codemirror_mode": {
    "name": "ipython",
    "version": 3
   },
   "file_extension": ".py",
   "mimetype": "text/x-python",
   "name": "python",
   "nbconvert_exporter": "python",
   "pygments_lexer": "ipython3",
   "version": "3.10.4"
  }
 },
 "nbformat": 4,
 "nbformat_minor": 5
}
